{
  "cells": [
    {
      "cell_type": "code",
      "execution_count": 1,
      "metadata": {
        "id": "RdxGwy-Uw2p_",
        "colab": {
          "base_uri": "https://localhost:8080/"
        },
        "outputId": "7ebcd671-7c5f-49c3-8b0d-7b4bd6fc393c"
      },
      "outputs": [
        {
          "output_type": "stream",
          "name": "stdout",
          "text": [
            "Mounted at /content/drive\n"
          ]
        }
      ],
      "source": [
        "from google.colab import drive\n",
        "drive.mount('/content/drive')"
      ]
    },
    {
      "cell_type": "code",
      "execution_count": 2,
      "metadata": {
        "id": "q2CkSc1H5XHH",
        "colab": {
          "base_uri": "https://localhost:8080/"
        },
        "outputId": "bd05c924-b4df-40ce-c8b4-c745ac664b82"
      },
      "outputs": [
        {
          "output_type": "stream",
          "name": "stdout",
          "text": [
            "(1683, 2)\n",
            "(49972, 3)\n",
            "(904, 2)\n",
            "(25413, 3)\n"
          ]
        }
      ],
      "source": [
        "import pandas as pd\n",
        "train_bodies = pd.read_csv('/content/drive/MyDrive/fnc_1_dataset/train_bodies.csv')\n",
        "train_stances = pd.read_csv('/content/drive/MyDrive/fnc_1_dataset/train_stances.csv')\n",
        "test_bodies = pd.read_csv('/content/drive/MyDrive/fnc_1_dataset/test_bodies.csv')\n",
        "test_stances = pd.read_csv('/content/drive/MyDrive/fnc_1_dataset/competition_test_stances.csv')\n",
        "print(train_bodies.shape)\n",
        "print(train_stances.shape)\n",
        "print(test_bodies.shape)\n",
        "print(test_stances.shape)"
      ]
    },
    {
      "cell_type": "code",
      "execution_count": 3,
      "metadata": {
        "id": "Y4sfRhhO6P4t"
      },
      "outputs": [],
      "source": [
        "def search(data, key, search_label, return_labels, l, r):\n",
        "  if l > r:\n",
        "    return None\n",
        "  mid = int((l+r)/2)\n",
        "  value = data[search_label][mid]\n",
        "  if value < key:\n",
        "    return search(data, key, search_label, return_labels, mid+1, r)\n",
        "  elif value == key:\n",
        "    search_result = []\n",
        "    for b in return_labels:\n",
        "      search_result.append(data[b][mid])\n",
        "    return search_result\n",
        "  else:\n",
        "    return search(data, key, search_label, return_labels, l, mid-1)"
      ]
    },
    {
      "cell_type": "markdown",
      "metadata": {
        "id": "Cm6jAyfqPmCr"
      },
      "source": [
        "**LABELS**\n",
        "\n",
        "3 - Agree: There is a relation between headline and article\n",
        "body.\n",
        "\n",
        "1 - Disagree: There is no relation between headline and\n",
        "article body.\n",
        "\n",
        "2 - Discuss: There is a little bit of match between headline\n",
        "and article body, taking it as neutral.\n",
        "\n",
        "0 - Unrelated: The topic discussed in headline and body are\n",
        "completely different.\n",
        "\n",
        "\n",
        "---\n",
        "\n"
      ]
    },
    {
      "cell_type": "code",
      "execution_count": 4,
      "metadata": {
        "id": "KMEu9keTOL9_"
      },
      "outputs": [],
      "source": [
        "def num_label(label):\n",
        "  if label == 'unrelated':\n",
        "    return [1,0,0,0]\n",
        "  elif label == 'disagree':\n",
        "    return [0,1,0,0]\n",
        "  elif label == 'discuss':\n",
        "    return [0,0,1,0]\n",
        "  else:\n",
        "    return [0,0,0,1]"
      ]
    },
    {
      "cell_type": "code",
      "execution_count": 5,
      "metadata": {
        "id": "lygw-SlF8WLE"
      },
      "outputs": [],
      "source": [
        "import numpy as np\n",
        "def combine_data(data1,data2, query_label, return_labels1, return_labels2, return_label, isLabeled=True):\n",
        "  result = []\n",
        "  label = []\n",
        "  size = data1.shape[0]\n",
        "  size = int(size/2)\n",
        "  for a in range(0,size):\n",
        "    # print(a)\n",
        "    key = data1[query_label][a]\n",
        "    result1 = search(data2, key, query_label, return_labels2, 0, data2.shape[0]-1)\n",
        "    result2 = []\n",
        "    for b in return_labels1:\n",
        "      result2.append(data1[b][a])\n",
        "    if(isLabeled):\n",
        "      label.append(num_label(data1[return_label][a]))\n",
        "    result1 = np.array(result1)\n",
        "    result2 = np.array(result2)\n",
        "    result3 = np.concatenate((result1,result2),axis=0)\n",
        "    result.append(result3)\n",
        "  result = np.array(result)\n",
        "  label = np.array(label)\n",
        "  return result, label\n"
      ]
    },
    {
      "cell_type": "code",
      "execution_count": 6,
      "metadata": {
        "id": "MxKLuAF-AFgy"
      },
      "outputs": [],
      "source": [
        "train_data, train_label = combine_data(train_stances, train_bodies, 'Body ID',['Headline'],['articleBody'],'Stance',True)\n",
        "test_data, test_label = combine_data(test_stances, test_bodies, 'Body ID',['Headline'],['articleBody'],'Stance',True)"
      ]
    },
    {
      "cell_type": "code",
      "execution_count": 7,
      "metadata": {
        "colab": {
          "base_uri": "https://localhost:8080/"
        },
        "id": "fT85cVSJGGCD",
        "outputId": "2efb0d49-4513-4421-ed99-50e238650490"
      },
      "outputs": [
        {
          "output_type": "stream",
          "name": "stdout",
          "text": [
            "[['Danny Boyle is directing the untitled film\\n\\nSeth Rogen is being eyed to play Apple co-founder Steve Wozniak in Sony’s Steve Jobs biopic.\\n\\nDanny Boyle is directing the untitled film, based on Walter Isaacson\\'s book and adapted by Aaron Sorkin, which is one of the most anticipated biopics in recent years.\\n\\nNegotiations have not yet begun, and it’s not even clear if Rogen has an official offer, but the producers — Scott Rudin, Guymon Casady and Mark Gordon — have set their sights on the talent and are in talks.\\n\\nOf course, this may all be for naught as Christian Bale, the actor who is to play Jobs, is still in the midst of closing his deal. Sources say that dealmaking process is in a sensitive stage.\\n\\nInsiders say Boyle will is flying to Los Angeles to meet with actress to play one of the female leads, an assistant to Jobs. Insiders say that Jessica Chastain is one of the actresses on the meeting list.\\n\\nWozniak, known as \"Woz,\" co-founded Apple with Jobs and Ronald Wayne. He first met Jobs when they worked at Atari and later was responsible for creating the early Apple computers.'\n",
            "  \"Police find mass graves with at least '15 bodies' near Mexico town where 43 students disappeared after police clash\"]\n",
            " [\"Hundreds of Palestinians were evacuated from their homes Sunday morning after Israeli authorities opened a number of dams near the border, flooding the Gaza Valley in the wake of a recent severe winter storm.\\n\\nThe Gaza Ministry of Interior said in a statement that civil defense services and teams from the Ministry of Public Works had evacuated more than 80 families from both sides of the Gaza Valley (Wadi Gaza) after their homes flooded as water levels reached more than three meters.\\n\\nGaza has experienced flooding in recent days amid a major storm that saw temperatures drop and frigid rain pour down.\\n\\nThe storm displaced dozens and caused hardship for tens of thousands, including many of the approximately 110,000 Palestinians left homeless by Israel's assault over summer.\\n\\nThe suffering is compounded by the fact that Israel has maintained a complete siege over Gaza for the last eight years, severely limiting electricity and the availability of fuel for generators. It has also prevented the displaced from rebuilding their homes, as construction materials are largely banned from entering.\\n\\nGaza civil defense services spokesman Muhammad al-Midana warned that further harm could be caused if Israel opens up more dams in the area, noting that water is currently flowing at a high speed from the Israel border through the valley and into the Mediterranean sea.\\n\\nEvacuated families have been sent to shelters sponsored by UNRWA, the UN agency for Palestinian refugees, in al-Bureij refugee camp and in al-Zahra neighborhood in the central Gaza Strip.\\n\\nThe Gaza Valley (Wadi Gaza) is a wetland located in the central Gaza Strip between al-Nuseirat refugee camp and al-Moghraqa. It is called HaBesor in Hebrew, and it flows from two streams -- one whose source runs from near Beersheba, and the other from near Hebron.\\n\\nIsraeli dams on the river to collect rainwater have dried up the wetlands inside Gaza, and destroyed the only source of surface water in the area.\\n\\nLocals have continued to use it to dispose of their waste for lack of other ways to do so, however, creating an environmental hazard.\\n\\nThis is not the first time Israeli authorities have opened the Gaza Valley dams.\\n\\nIn Dec. 2013, Israeli authorities also opened the dams amid heavy flooding in the Gaza Strip. The resulting floods damaged dozens of homes and forces many families in the area from their homes.\\n\\nIn 2010, the dams were opened as well, forcing 100 families from their homes. At the time civil defense services said that they had managed to save seven people who had been at risk of drowning.\"\n",
            "  'Hundreds of Palestinians flee floods in Gaza as Israel opens dams']\n",
            " ['30-year-old Moscow resident was hospitalized with wounds very intimate nature. As it became known LifeNews, in the hands of doctors, the man complained that his casual acquaintance opoila in the sauna, and then gently held his castration operation. And actions criminals were executed with surgical precision - woman sewed all the smallest blood vessels.\\n\\n\\n\\n- I met a girl at the bar, and then we went to the sauna for a taxi. I remember that I had a beer, and more do not remember, - said Roman law enforcement officials.\\n\\nAt the hospital, the man hours spent in intensive care, doctors were forced to spend a second operation on the testicles.\\n\\n- I thought I had just cut, but at the hospital they told me that I removed the testicles - told Roman about his sad adventures.\\n\\n- The patient had literally jewelry operation - he cut out eggs and ligated vessels. We can say that the transactions were either physician or veterinarian - doctors say.\\n\\nInterestingly, the wife of the injured man is still convinced that her husband was in the hospital because of surgery on the genitals caused by a serious illness.'\n",
            "  \"Christian Bale passes on role of Steve Jobs, actor reportedly felt he wasn't right for part\"]\n",
            " ...\n",
            " ['The news has gone around the world, including fishing enthusiasts and more: Dino Ferrari and the twin brother Dario, who scored a record-fishing along the river Po. On February 19, in the province of Mantua, have in fact captured a huge torpedo from the weight of 127 kg and a length of 267 centimeters.\\nshadow carouselCatfish in the Guinness book\\nCatfish in the Guinness book\\nCatfish in the Guinness book\\nCatfish in the Guinness book\\nCatfish in the Guinness book\\nCatfish in the Guinness book\\nCatfish in the Guinness book\\nCatfish in the Guinness book\\nCatfish in the Guinness book\\nCatfish in the Guinness book\\nCatfish in the Guinness book\\nCatfish in the Guinness book\\nCatfish in the Guinness book\\nCatfish in the Guinness book\\nCatfish in the Guinness book\\nCatfish in the Guinness book\\nCatfish in the Guinness book\\nCatfish in the Guinness book\\nCatfish in the Guinness book\\nPrev Next\\nGiant River\\n\"It was a fight that lasted 40 minutes,\" says Dino. Before now no one had ever managed to capture a prey so great with the technique of spinning, a type of fishing with artificial bait. When they felt the appropriate time, have pulled it towards the boat and then, with great difficulty by the torpedo, they hooked and towed to shore. Although destroyed by fatigue are happy for the company: the brothers win it a mention in the Guinness Book of Records. \"To fish these giants of the river, you must have patience but also a lot of physical strength,\" says the fisherman. In truth, the two are quite well-known in the catfish fishing for making other exceptional catches in the past: \"In 20 years we have caught about 1,800.\" The joy for this sensational blow was so great that Dino wanted to embrace the mighty fish for the usual photos. It is thought that the torpedo can achieve even four feet long, although so far there is no evidence. And the prey, what happened? The giant is still in the Po. After a few shots have thrown back into the water. \"Who am I to take his life?\" Says Dino Ferrari. Maybe in a year will be able to catch them again. However, at that point it will be even more gigantic'\n",
            "  'The Man Who Says Comcast Got Him Fired Has Filed a Lawsuit']\n",
            " ['New York (CNN) -- When war reporter James Foley wasn\\'t writing for GlobalPost or recording video for AFP or appearing on the PBS \"NewsHour,\" he occasionally shared stories on his own blog, aptly titled \"A World of Troubles.\"\\n\\nFor a subtitle, he chose the famous Carl von Clausewitz sentence \"War is fought by human beings.\"\\n\\nAnd that is exactly what Foley sought to show with his reporting: humanity amid the horror of war.\\n\\nFoley was abducted while on a reporting trip in northern Syria in November 2012. He was never heard from again.\\n\\nA video published Tuesday by the extremist group ISIS showed Foley being beheaded. It is not known when or where the video was recorded.\\n\\nFor Foley\\'s family and friends, the recording was the answer they hoped they\\'d never hear to their questions about his disappearance.\\n\\n\"We have never been prouder of our son Jim. He gave his life trying to expose the world to the suffering of the Syrian people,\" his mother, Diane, said Tuesday night,\\n\\nShe called him \"an extraordinary son, brother, journalist and person.\"\\n\\nCourageous, generous\\n\\nFoley was the oldest child of Diane and John Foley of Rochester, New Hampshire. He had four siblings.\\n\\nFoley -- Jim to his friends -- had been reporting from war-torn countries for the better part of four years when he disappeared in Syria.\\n\\nOn Tuesday, fellow journalists remembered him for his courage and his generosity.\\n\\nOne of his friends, Alex Sherman of Bloomberg News, wrote on Twitter that he was a \"funny, warm, Big Lebowski-loving guy.\"\\n\\nAnother friend, Max Fisher of Vox, praised his \"dedication to truth and understanding.\"\\n\\nFisher also wrote that \"Jim\\'s faith was something we all agreed not to discuss publicly while he was held in Syria, but it was the wellspring of his generosity,\"\\n\\nHe recalled how Foley helped to organize a memorial fund for a photographer, Anton Hammerl, who was killed in Libya in 2011.\\n\\nFoley had been traveling with Hammerl and two other journalists at the time, and the three who survived wound up in a Libyan jail.\\n\\nBeheading of American journalist James Foley recalls past horrors\\n\\nFront-line journalist\\n\\nFoley was freed six weeks later. Afterward, in a video interview with the Boston Globe, he hesitated to make the story about himself, remarking at one point that \"you don\\'t want to be defined as \\'that guy who got captured in 2011.\\'\"\\n\\n\"I believe that front-line journalism is important, you know -- without these photos and videos and first-hand experience, we can\\'t really tell the world how bad it might be,\" he said.\\n\\nOne of the journalists detained with Foley in Libya, Clare Morgana Gillis, said his fundraising for Hammerl\\'s family was \"the same impulse that compelled him to cut short his much-needed break from reporting in Syria when a colleague went missing last summer, and to raise money for an ambulance for Aleppo\\'s Dar al-Shifa field hospital, where he spent weeks filming the plight of doctors who struggled to save lives with minimal space equipment.\"\\n\\nHis time as a teacher\\n\\nFor Foley, these were acts of service, not entirely unlike his time spent in the Teach for America program. He began teaching in Phoenix in 1996.\\n\\n\"He\\'d promise students that he\\'d take them to the Castles and Coasters amusement park if they would come to class everyday,\" a fellow Teach for America alum, Sarah Fang, recalled in an essay in 2013.\\n\\nFoley later \"taught reading and writing to inmates at the Cook County Sheriff\\'s Boot Camp in Chicago,\" according to a Columbia Journalism Review feature about him.\\n\\nWould you watch the video?\\n\\nHis journalism career\\n\\nIn the mid-2000s he decided to pursue a journalism career, first by enrolling at Northwestern University\\'s well-respected Medill School of Journalism and then by embedding with American troops in Iraq and Afghanistan. While preparing for his first embed, he started his blog.\\n\\nFoley freelanced for a number of news media outlets, including GlobalPost, a world news Web site founded in 2009.\\n\\nIn 2012, he gravitated toward the spiraling conflict in Syria.\\n\\nFang, who kept in touch with Foley after their years teaching in Phoenix, wrote that his interest in the story there did not surprise her.\\n\\n\"He\\'s always been willing to step into a zone where no one else wants to go,\" she wrote. \"Jim feels that society needs reporters willing to bear witness and report back the facts of history-in-the-making. And his loyalty to his colleagues meant that he wanted to be there with them on the frontlines.\"\\n\\nBuzzFeed Middle East correspondent Sheera Frenkel said she last saw Foley about a week before his final trip into Syria.\\n\\nDrinking beers at the lobby of a hotel popular among journalists, they talked, she said, about \"how hard it was to move on from this job, into a life which would allow for marriage and family.\"\\n\\n\"He was a generous colleague, never holding back a tip, phone number, or detail that could help, and could spend hours talking over the ins and outs of a story to get it just right,\" Frenkel wrote in an email message.\\n\\n\"Jim was a great journalist, and I think he\\'d like to be remembered that way, first and foremost.\"\\n\\nAfter the news of Foley\\'s killing spread on Tuesday, CBS News foreign correspondent Clarissa Ward changed her profile picture on Twitter to a photo of Foley wearing a helmet, a flak jacket and holding up a camera.\\n\\nThis, she said, \"is how I will chose to remember James -- as a brave and tireless journalist with a passion for the Syrian cause.\"\\n\\nREAD: ISIS beheads U.S. journalist, threatens another over Iraq\\n\\nREAD: Who\\'s Haider al-Abadi, the man who will lead Iraq?'\n",
            "  'Absent from duty for 25 years, CPWD official dismissed']\n",
            " [\"The woman also detained is believed to be al-Baghdadi's ex-wife\\n\\nDNA tests have confirmed that the child held by Lebanese authorities is the daughter of the Islamic State of Iraq and Greater Syria (ISIS) leader Abu Bakr al-Baghdadi.\\n\\nLebanon’s Interior Minister Nohad Machnouk told domestic television channel MTV that the child’s mother is believed to have married to al-Baghdadi six years ago for a period of three months, the BBC reports.\\n\\nThe Iraqi government had said she was not married to the Islamist leader.\\n\\nThe woman, identified as Saja al-Dulaimi, tried to enter Lebanon over a week ago accompanied by two sons and a daughter when she was detained by border guards.\\n\\nMachnouk claims al-Dulaimi is pregnant but the child is not al-Baghdadi’s.\\n\\n“We conducted DNA tests on her and the daughter, which showed she was the mother of the girl, and that the girl is [al-Baghdadi’s] daughter, based on DNA from Baghdadi from Iraq,” Machnouk told MTV.\\n\\nMachnouk said the children were staying at a care center while al-Dulaimi was being interrogated.\\n\\n[BBC]\"\n",
            "  \"Confusion swirls, details murky in arrest of ISIS leader's 'wife'\"]]\n",
            "[[1 0 0 0]\n",
            " [0 0 0 1]\n",
            " [1 0 0 0]\n",
            " ...\n",
            " [1 0 0 0]\n",
            " [1 0 0 0]\n",
            " [0 0 1 0]]\n",
            "[['A RESPECTED senior French police officer investigating the Charlie Hebdo magazine massacre took his own life mere hours after the horrific attacks stunned the world.\\n\\nCommissioner Helric Fredou, 45, turned a gun on himself in his police office in Limoges last Wednesday night, reported France 3.\\n\\nA colleague found his body at 1am on Thursday, the day after three gunmen fired at the satirical magazine\\'s office and left 12 people dead.\\n\\nSpeaking to our sister publication Mirror Online, the Union of Commissioners of the National Police confirmed Mr Fredou had taken his own life.\\n\\n\\nIn a statement released after his death, a union spokesman said: \"It is with great sadness that we were informed this morning of the death of our colleague Helric Fredou, assigned as Deputy Director of the Regional Service Judicial Police in Limoges.\\n\\n\"On this particular day of national mourning, police commissioners are hit hard by the tragic death of one of their own.\\n\\n\"The Union of Commissioners of the National Police would like to present its most sincere condolences to the relatives of Helric.\\n\\n\"In these difficult times, we have a special thought for all his colleagues.\"\\n\\nMr Fredou - who was single and had no children - began his career as a police officer in 1997, working in Versailles.\\n\\nHe eventually returned to his home town of Limoges and in 2012 became deputy director of the regional police service.\\n\\n\\nFrench media reports suggest he was depressed and was suffering from burnout.\\n\\nBrothers Said and Cherif Kouachi launched last Wednesday\\'s devastating attack at the office\\'s of the French satirical magazine.\\n\\nThe attack left 12 people dead. On Friday, the pair were shot dead by police after taking a man hostage at a family-run printing press in Dammartin-en-Goele .\\n\\nIn a separate incident on Friday, Amedy Coulibaly, 32, took about 15 people hostage in a Paris supermarket.\\n\\nFour hostages were killed in the incident along with Coulibaly.'\n",
            "  'Ferguson riots: Pregnant woman loses eye after cops fire BEAN BAG round through car window']\n",
            " [\"Dave Morin's social networking company Path is reportedly in Apple Inc.'s acquisition path.\\n\\nApple Inc. is close to buying social network Path as it aims to bolster its social media efforts, PandoDaily reported, citing an internal source on Apple's engineering team.\\n\\nThe purchase would be more than an acquihire, the process when a company buys a company for its talent rather than its product. Path's platform will probably survive the acquisition and somehow be incorporated into Apple's revamped Messages app, according to the article. It isn't clear how big the price tag will be, but Path's 25 million users probably wouldn't command a sum that nears Facebook Inc.'s $19 billion purchase of WhatsApp, which boasts more than 400 million users.\\n\\nCo-founder and CEO Dave Morin declined to comment one way or another onstage at TechCrunch's Disrupt conference on Wednesday.\\n\\nSan Francisco-based Path, a personal mobile photo-sharing and message platform, has raised a total of $77 million from backers including First Round, Index Ventures, Redpoint Ventures, Insight Venture Partners, Kleiner Perkins Caufield & Byers and Greylock Partners. It most recently nabbed $25 million in January.\\n\\nClick here to sign up for TechFlash, the free daily email newsletter about founders and funders in the region.\"\n",
            "  'Crazy Conservatives Are Sure a Gitmo Detainee Killed James Foley']\n",
            " [\"A bereaved Afghan mother took revenge on the Taliban after watching them kill her son in an ambush. Reza Gul killed 25 Taliban fighters and injured five others in a seven-hour gunbattle in Farah province.\\n\\nGul, who was joined by her daughter and daughter in-law, engaged the Taliban using AK-47s and grenades, despitenever before having used a weapon.\\n\\nThe embattled mother told Tolo news, a 24-hour Afghan news broadcaster, she was awakened by shots early Tuesday. After seeing that her son had been killed, Gul and the other two women fought back.\\n\\n“I couldn't stop myself and picked up a weapon,” Gul told Tolo News. “I went to the check post and began shooting back.”\\n\\nSeema, her daughter-in-law, added: “The fighting was intensified when we reached the battlefield along with light and heavy weapons. We were committed to fight until the last bullet.”\\n\\nGul said that the battlefield was covered in Talib fighters after the deadly exchange ended.\\n\\nWhile the Taliban have not publicly commented on the incident, the Afghan government labeled it a symbol of a public uprising against the Taliban.\\n\\nTaliban and other groups have regained large swathes of the country as U.S. and NATO forces slowly pull out troops after 14 years of war. The Taliban have targeted government and foreign infrastructure as the group attempts to claw back power it lost in 2001.\\n\\nWhile the Taliban have made key gains in rural regions, members continue to employ suicide bomber tactics in well protected towns and cities. Earlier this week, 50 people were killed after a suicide bomber detonated a vest during a volleyball competition in Yahyakahil, Paktika province.\\n\\nThat particular attack prompted President Ashraf Ghani to order a complete overview of the country’s defense forces and to rethink the ban on nighttime raids, which were outlawed by his predecessor, Hamid Karzai.\"\n",
            "  'A Russian Guy Says His Justin Bieber Ringtone Saved Him From A Bear Attack']\n",
            " ...\n",
            " ['UNITED NATIONS (CBS News/CBSDC/AP) — Iraq’s ambassador to the United Nations asked the U.N. Security Council on Tuesday to look at allegations that the Islamic State of Iraq and Syria (ISIS) is using organ harvesting as a way to finance its operations.\\nAmbassador Mohamed Alhakim told reporters that in the past few weeks, bodies with surgical incisions and missing kidneys or other body parts have been found in shallow mass graves.\\n“We have bodies. Come and examine them,” he said. “It is clear they are missing certain parts.”\\nHe also said a dozen doctors have been “executed” in Mosul for refusing to participate in organ harvesting.\\nAlhakim briefed the council on the overall situation in Iraq and accused ISIS of “crimes of genocide” in targeting certain ethnic groups.\\nThe outgoing U.N. envoy to Iraq, Nikolay Mladenov, told the council that 790 people were killed in January alone by terrorism and armed conflict.\\nMladenov noted the increasing number of reports and allegations that ISIS is using organ harvesting as a financing method, but he said only that “it’s very clear that the tactics ISIL is using expand by the day.” He used an alternative acronym for the group.\\nHe said Iraq’s most pressing goal is to win back the vast territory that ISIS has seized in the past year. The Sunni militants seized a third of both Iraq and neighboring Syria and imposed strict Sharia law.\\n“Especially worrying is the increasing number of reports of revenge attacks committed particularly against members of the Sunni community in areas liberated from ISIL control,” Mladenov said.\\nSheikh Ahmed Aburisha is a tribal leader from Anbar province in Iraq, 85 percent of which is under ISIS control. In late January, he visited Washington to urge the U.S. to give his tribes weapons and money so they can defeat ISIS in Anbar.\\n“Vice President Biden and Gen. [John] Allen have a clear picture of what is happening in Iraq and Anbar and what type of support is needed for the fighters in Anbar,” Aburisha told CBS News’ Jennifer Janisch. “We have received promises and we hope that these promises will materialize in reality on the ground.”\\n(TM and © Copyrigh'\n",
            "  'Apple reportedly planning to shut down Beats Music subscription streaming service [u]']\n",
            " ['At CES 2015 event scheduled between Jan. 6 and Jan. 9, a potential company named Standzout will be showcasing its prototype of the Apple Watch accessory. The accessory in focus is the \"Bandstand Apple Watch dock.\" The aforesaid company calls it the first great Apple Watch accessory ever.\\n\\nThe dock apparently makes use of an \"induction charging plate to power the gadget\" and by doing so, it holds the smartwatch in place. In addition, there are two USB ports housed on the device to enable the user to charge other devices like Apple iPhones and iPads, notes Phone Arena. Interested readers can check out the Bandstand Apple Watch dock prototype from Gigaom.\\n\\nWhen it comes to Apple Watch release date, reports state that the Cupertino-headquartered company might launch its gadget on Valentine\\'s Day. Meanwhile, the sales predictions for the Apple Watch are as high as 30 million units and the demand is assumed to grow further, according to the same site. In contrast to other smartwatches available in the market, Apple will reportedly be marketing the Watch as a fashion accessory than a tech gear.\\n\\nWhen it comes to key features of the Apple Watch, the company is believed to be working on two different models, namely 38 mm and 42 mm versions of the smartwatch. Moreover, the gadget with high focus on fashion will be offered in six different casing options. In addition, the smartwatch\\'s band can reportedly be interchanged as required. As far as the pricing details go, the base variant of the Apple Watch i.e. the sports model will reportedly be priced at $349. But then, the high-end variants especially the solid gold/diamond model will go as high as several thousand dollars, says MacRumors.\\n\\nMoving on to the higher-end Apple Watch, Apple is planning to release a $30,150 priced model of the smartwatch, adorned in diamonds and sapphire. The sapphire and diamond-clad gadget will reportedly come with eight rows of \"high-grade 15 carat diamonds\" and it is considered to be the \"luxury edition\" of the smartwatch. Apparently, this device will also come equipped with sapphire glass display for extra protection, notes Phone Arena.'\n",
            "  'Justin Bieber saves man from bear attack']\n",
            " ['On Sunday, the blogosphere went into overdrive when a Tweet attributed to Lisa Bonet seemed aimed at Bill Cosby.\\n\\n\"According to the karma of past actions, one\\'s destiny unfolds, even though everyone wants to be so lucky,\" read the Tweet, which was posted on an account using Bonet\\'s name. \"Nothing stays in the dark 4ever!\"\\n\\nWas Bonet – who played Cosby\\'s daughter, Denise, on The Cosby Show from 1989 to 1992 – addressing the numerous sexual assault allegations against the 77-year-old comedian? (The actor has denied the claims through his lawyer.)\\n\\nThe answer: No, she was not.\\n\\n\\n\\n\\n\"Lisa Bonet has no social media of any kind,\" her manager tells PEOPLE exclusively.\\n\\n\"Any posts made in her name were made by impersonators with unverified accounts. She also has no comment on the ongoing story.\"\\n\\nThe fake Twitter account has since been suspended.\\n\\nBonet isn\\'t the first of Cosby\\'s Huxtable family to speak out. Raven-Symoné (who played Cosby\\'s step-granddaughter, Olivia, on the show) took to social media last week to deny rumors that she was one of his victims.\\n\\n\"I was NOT taking advantage of by Mr. Cosby when I was on the Cosby Show!\" she posted on her Instagram. \"I was practically a baby on that show and this is truly a disgusting rumor that I want no part of! Everyone on that show treated me with nothing but kindness. Now keep me out of this!\"'\n",
            "  'Saudi oil explosion now said to be diesel pipeline']]\n",
            "[[1 0 0 0]\n",
            " [1 0 0 0]\n",
            " [1 0 0 0]\n",
            " ...\n",
            " [1 0 0 0]\n",
            " [1 0 0 0]\n",
            " [1 0 0 0]]\n"
          ]
        }
      ],
      "source": [
        "print(train_data)\n",
        "print(train_label)  \n",
        "print(test_data)\n",
        "print(test_label)"
      ]
    },
    {
      "cell_type": "markdown",
      "metadata": {
        "id": "0prurL2MYCtU"
      },
      "source": [
        "```\n",
        "tf.keras.preprocessing.text.text_to_word_sequence(\n",
        "    input_text,\n",
        "    filters='!\"#$%&()*+,-./:;<=>?@[\\\\]^_`{|}~\\t\\n',\n",
        "    lower=True,\n",
        "    split=' '\n",
        ")\n",
        "\n",
        "tf.keras.preprocessing.text.Tokenizer(\n",
        "    num_words=None,\n",
        "    filters='!\"#$%&()*+,-./:;<=>?@[\\\\]^_`{|}~\\t\\n',\n",
        "    lower=True,\n",
        "    split=' ',\n",
        "    char_level=False,\n",
        "    oov_token=None,\n",
        "    document_count=0,\n",
        "    **kwargs\n",
        ")\n",
        "\n",
        "num_words - the maximum number of words to keep, based on word frequency. Only the most common num_words-1 words will be kept.\n",
        "filters - a string where each element is a character that will be filtered from the texts. The default is all punctuation, plus tabs and line breaks, minus the ' character.\n",
        "lower - boolean. Whether to convert the texts to lowercase.\n",
        "split - str. Separator for word splitting.\n",
        "char_level - if True, every character will be treated as a token.\n",
        "oov_token - if given, it will be added to word_index and used to replace out-of-vocabulary words during text_to_sequence calls \n",
        "\n",
        "fit_on_texts(\n",
        "    texts\n",
        ")\n",
        "\n",
        "Updates internal vocabulary based on a list of texts.\n",
        "\n",
        "In the case where texts contains lists, we assume each entry of the lists to be a token.\n",
        "\n",
        "Required before using texts_to_sequences or texts_to_matrix.\n",
        "\n",
        "texts_to_matrix\n",
        "\n",
        "View source\n",
        "\n",
        "texts_to_matrix(\n",
        "    texts, mode='binary'\n",
        ")\n",
        "\n",
        "Convert a list of texts to a Numpy matrix.\n",
        "sequences - list of sequences (a sequence is a list of integer word indices).\n",
        "mode - one of \"binary\", \"count\", \"tfidf\", \"freq\" \n",
        "```\n",
        "\n"
      ]
    },
    {
      "cell_type": "code",
      "execution_count": 8,
      "metadata": {
        "id": "aqTYAv4iYMmP"
      },
      "outputs": [],
      "source": [
        "def combine_headline_body(data):\n",
        "  size = data.shape[0]\n",
        "  data_list = []\n",
        "  for a in range(0,size):\n",
        "    text = data[a][0] + \" \" + data[a][1]\n",
        "    data_list.append(text)\n",
        "  return np.array(data_list)\n",
        "\n"
      ]
    },
    {
      "cell_type": "code",
      "execution_count": 9,
      "metadata": {
        "colab": {
          "base_uri": "https://localhost:8080/"
        },
        "id": "FzCYLv2tdzbt",
        "outputId": "9f94d432-2c8a-4c34-cfc4-ccf1edcfb7e4"
      },
      "outputs": [
        {
          "output_type": "stream",
          "name": "stdout",
          "text": [
            "(24986, 2)\n",
            "(12706, 2)\n"
          ]
        }
      ],
      "source": [
        "print(train_data.shape)\n",
        "print(test_data.shape)\n",
        "train_data = combine_headline_body(train_data)\n",
        "test_data = combine_headline_body(test_data)"
      ]
    },
    {
      "cell_type": "code",
      "execution_count": 10,
      "metadata": {
        "colab": {
          "base_uri": "https://localhost:8080/"
        },
        "id": "mxNvEhyFe_dk",
        "outputId": "f0a2f980-2d80-4c06-80f3-4de2ccbcbf73"
      },
      "outputs": [
        {
          "output_type": "stream",
          "name": "stdout",
          "text": [
            "['Danny Boyle is directing the untitled film\\n\\nSeth Rogen is being eyed to play Apple co-founder Steve Wozniak in Sony’s Steve Jobs biopic.\\n\\nDanny Boyle is directing the untitled film, based on Walter Isaacson\\'s book and adapted by Aaron Sorkin, which is one of the most anticipated biopics in recent years.\\n\\nNegotiations have not yet begun, and it’s not even clear if Rogen has an official offer, but the producers — Scott Rudin, Guymon Casady and Mark Gordon — have set their sights on the talent and are in talks.\\n\\nOf course, this may all be for naught as Christian Bale, the actor who is to play Jobs, is still in the midst of closing his deal. Sources say that dealmaking process is in a sensitive stage.\\n\\nInsiders say Boyle will is flying to Los Angeles to meet with actress to play one of the female leads, an assistant to Jobs. Insiders say that Jessica Chastain is one of the actresses on the meeting list.\\n\\nWozniak, known as \"Woz,\" co-founded Apple with Jobs and Ronald Wayne. He first met Jobs when they worked at Atari and later was responsible for creating the early Apple computers. Police find mass graves with at least \\'15 bodies\\' near Mexico town where 43 students disappeared after police clash'\n",
            " \"Hundreds of Palestinians were evacuated from their homes Sunday morning after Israeli authorities opened a number of dams near the border, flooding the Gaza Valley in the wake of a recent severe winter storm.\\n\\nThe Gaza Ministry of Interior said in a statement that civil defense services and teams from the Ministry of Public Works had evacuated more than 80 families from both sides of the Gaza Valley (Wadi Gaza) after their homes flooded as water levels reached more than three meters.\\n\\nGaza has experienced flooding in recent days amid a major storm that saw temperatures drop and frigid rain pour down.\\n\\nThe storm displaced dozens and caused hardship for tens of thousands, including many of the approximately 110,000 Palestinians left homeless by Israel's assault over summer.\\n\\nThe suffering is compounded by the fact that Israel has maintained a complete siege over Gaza for the last eight years, severely limiting electricity and the availability of fuel for generators. It has also prevented the displaced from rebuilding their homes, as construction materials are largely banned from entering.\\n\\nGaza civil defense services spokesman Muhammad al-Midana warned that further harm could be caused if Israel opens up more dams in the area, noting that water is currently flowing at a high speed from the Israel border through the valley and into the Mediterranean sea.\\n\\nEvacuated families have been sent to shelters sponsored by UNRWA, the UN agency for Palestinian refugees, in al-Bureij refugee camp and in al-Zahra neighborhood in the central Gaza Strip.\\n\\nThe Gaza Valley (Wadi Gaza) is a wetland located in the central Gaza Strip between al-Nuseirat refugee camp and al-Moghraqa. It is called HaBesor in Hebrew, and it flows from two streams -- one whose source runs from near Beersheba, and the other from near Hebron.\\n\\nIsraeli dams on the river to collect rainwater have dried up the wetlands inside Gaza, and destroyed the only source of surface water in the area.\\n\\nLocals have continued to use it to dispose of their waste for lack of other ways to do so, however, creating an environmental hazard.\\n\\nThis is not the first time Israeli authorities have opened the Gaza Valley dams.\\n\\nIn Dec. 2013, Israeli authorities also opened the dams amid heavy flooding in the Gaza Strip. The resulting floods damaged dozens of homes and forces many families in the area from their homes.\\n\\nIn 2010, the dams were opened as well, forcing 100 families from their homes. At the time civil defense services said that they had managed to save seven people who had been at risk of drowning. Hundreds of Palestinians flee floods in Gaza as Israel opens dams\"\n",
            " \"30-year-old Moscow resident was hospitalized with wounds very intimate nature. As it became known LifeNews, in the hands of doctors, the man complained that his casual acquaintance opoila in the sauna, and then gently held his castration operation. And actions criminals were executed with surgical precision - woman sewed all the smallest blood vessels.\\n\\n\\n\\n- I met a girl at the bar, and then we went to the sauna for a taxi. I remember that I had a beer, and more do not remember, - said Roman law enforcement officials.\\n\\nAt the hospital, the man hours spent in intensive care, doctors were forced to spend a second operation on the testicles.\\n\\n- I thought I had just cut, but at the hospital they told me that I removed the testicles - told Roman about his sad adventures.\\n\\n- The patient had literally jewelry operation - he cut out eggs and ligated vessels. We can say that the transactions were either physician or veterinarian - doctors say.\\n\\nInterestingly, the wife of the injured man is still convinced that her husband was in the hospital because of surgery on the genitals caused by a serious illness. Christian Bale passes on role of Steve Jobs, actor reportedly felt he wasn't right for part\"\n",
            " ...\n",
            " 'The news has gone around the world, including fishing enthusiasts and more: Dino Ferrari and the twin brother Dario, who scored a record-fishing along the river Po. On February 19, in the province of Mantua, have in fact captured a huge torpedo from the weight of 127 kg and a length of 267 centimeters.\\nshadow carouselCatfish in the Guinness book\\nCatfish in the Guinness book\\nCatfish in the Guinness book\\nCatfish in the Guinness book\\nCatfish in the Guinness book\\nCatfish in the Guinness book\\nCatfish in the Guinness book\\nCatfish in the Guinness book\\nCatfish in the Guinness book\\nCatfish in the Guinness book\\nCatfish in the Guinness book\\nCatfish in the Guinness book\\nCatfish in the Guinness book\\nCatfish in the Guinness book\\nCatfish in the Guinness book\\nCatfish in the Guinness book\\nCatfish in the Guinness book\\nCatfish in the Guinness book\\nCatfish in the Guinness book\\nPrev Next\\nGiant River\\n\"It was a fight that lasted 40 minutes,\" says Dino. Before now no one had ever managed to capture a prey so great with the technique of spinning, a type of fishing with artificial bait. When they felt the appropriate time, have pulled it towards the boat and then, with great difficulty by the torpedo, they hooked and towed to shore. Although destroyed by fatigue are happy for the company: the brothers win it a mention in the Guinness Book of Records. \"To fish these giants of the river, you must have patience but also a lot of physical strength,\" says the fisherman. In truth, the two are quite well-known in the catfish fishing for making other exceptional catches in the past: \"In 20 years we have caught about 1,800.\" The joy for this sensational blow was so great that Dino wanted to embrace the mighty fish for the usual photos. It is thought that the torpedo can achieve even four feet long, although so far there is no evidence. And the prey, what happened? The giant is still in the Po. After a few shots have thrown back into the water. \"Who am I to take his life?\" Says Dino Ferrari. Maybe in a year will be able to catch them again. However, at that point it will be even more gigantic The Man Who Says Comcast Got Him Fired Has Filed a Lawsuit'\n",
            " 'New York (CNN) -- When war reporter James Foley wasn\\'t writing for GlobalPost or recording video for AFP or appearing on the PBS \"NewsHour,\" he occasionally shared stories on his own blog, aptly titled \"A World of Troubles.\"\\n\\nFor a subtitle, he chose the famous Carl von Clausewitz sentence \"War is fought by human beings.\"\\n\\nAnd that is exactly what Foley sought to show with his reporting: humanity amid the horror of war.\\n\\nFoley was abducted while on a reporting trip in northern Syria in November 2012. He was never heard from again.\\n\\nA video published Tuesday by the extremist group ISIS showed Foley being beheaded. It is not known when or where the video was recorded.\\n\\nFor Foley\\'s family and friends, the recording was the answer they hoped they\\'d never hear to their questions about his disappearance.\\n\\n\"We have never been prouder of our son Jim. He gave his life trying to expose the world to the suffering of the Syrian people,\" his mother, Diane, said Tuesday night,\\n\\nShe called him \"an extraordinary son, brother, journalist and person.\"\\n\\nCourageous, generous\\n\\nFoley was the oldest child of Diane and John Foley of Rochester, New Hampshire. He had four siblings.\\n\\nFoley -- Jim to his friends -- had been reporting from war-torn countries for the better part of four years when he disappeared in Syria.\\n\\nOn Tuesday, fellow journalists remembered him for his courage and his generosity.\\n\\nOne of his friends, Alex Sherman of Bloomberg News, wrote on Twitter that he was a \"funny, warm, Big Lebowski-loving guy.\"\\n\\nAnother friend, Max Fisher of Vox, praised his \"dedication to truth and understanding.\"\\n\\nFisher also wrote that \"Jim\\'s faith was something we all agreed not to discuss publicly while he was held in Syria, but it was the wellspring of his generosity,\"\\n\\nHe recalled how Foley helped to organize a memorial fund for a photographer, Anton Hammerl, who was killed in Libya in 2011.\\n\\nFoley had been traveling with Hammerl and two other journalists at the time, and the three who survived wound up in a Libyan jail.\\n\\nBeheading of American journalist James Foley recalls past horrors\\n\\nFront-line journalist\\n\\nFoley was freed six weeks later. Afterward, in a video interview with the Boston Globe, he hesitated to make the story about himself, remarking at one point that \"you don\\'t want to be defined as \\'that guy who got captured in 2011.\\'\"\\n\\n\"I believe that front-line journalism is important, you know -- without these photos and videos and first-hand experience, we can\\'t really tell the world how bad it might be,\" he said.\\n\\nOne of the journalists detained with Foley in Libya, Clare Morgana Gillis, said his fundraising for Hammerl\\'s family was \"the same impulse that compelled him to cut short his much-needed break from reporting in Syria when a colleague went missing last summer, and to raise money for an ambulance for Aleppo\\'s Dar al-Shifa field hospital, where he spent weeks filming the plight of doctors who struggled to save lives with minimal space equipment.\"\\n\\nHis time as a teacher\\n\\nFor Foley, these were acts of service, not entirely unlike his time spent in the Teach for America program. He began teaching in Phoenix in 1996.\\n\\n\"He\\'d promise students that he\\'d take them to the Castles and Coasters amusement park if they would come to class everyday,\" a fellow Teach for America alum, Sarah Fang, recalled in an essay in 2013.\\n\\nFoley later \"taught reading and writing to inmates at the Cook County Sheriff\\'s Boot Camp in Chicago,\" according to a Columbia Journalism Review feature about him.\\n\\nWould you watch the video?\\n\\nHis journalism career\\n\\nIn the mid-2000s he decided to pursue a journalism career, first by enrolling at Northwestern University\\'s well-respected Medill School of Journalism and then by embedding with American troops in Iraq and Afghanistan. While preparing for his first embed, he started his blog.\\n\\nFoley freelanced for a number of news media outlets, including GlobalPost, a world news Web site founded in 2009.\\n\\nIn 2012, he gravitated toward the spiraling conflict in Syria.\\n\\nFang, who kept in touch with Foley after their years teaching in Phoenix, wrote that his interest in the story there did not surprise her.\\n\\n\"He\\'s always been willing to step into a zone where no one else wants to go,\" she wrote. \"Jim feels that society needs reporters willing to bear witness and report back the facts of history-in-the-making. And his loyalty to his colleagues meant that he wanted to be there with them on the frontlines.\"\\n\\nBuzzFeed Middle East correspondent Sheera Frenkel said she last saw Foley about a week before his final trip into Syria.\\n\\nDrinking beers at the lobby of a hotel popular among journalists, they talked, she said, about \"how hard it was to move on from this job, into a life which would allow for marriage and family.\"\\n\\n\"He was a generous colleague, never holding back a tip, phone number, or detail that could help, and could spend hours talking over the ins and outs of a story to get it just right,\" Frenkel wrote in an email message.\\n\\n\"Jim was a great journalist, and I think he\\'d like to be remembered that way, first and foremost.\"\\n\\nAfter the news of Foley\\'s killing spread on Tuesday, CBS News foreign correspondent Clarissa Ward changed her profile picture on Twitter to a photo of Foley wearing a helmet, a flak jacket and holding up a camera.\\n\\nThis, she said, \"is how I will chose to remember James -- as a brave and tireless journalist with a passion for the Syrian cause.\"\\n\\nREAD: ISIS beheads U.S. journalist, threatens another over Iraq\\n\\nREAD: Who\\'s Haider al-Abadi, the man who will lead Iraq? Absent from duty for 25 years, CPWD official dismissed'\n",
            " \"The woman also detained is believed to be al-Baghdadi's ex-wife\\n\\nDNA tests have confirmed that the child held by Lebanese authorities is the daughter of the Islamic State of Iraq and Greater Syria (ISIS) leader Abu Bakr al-Baghdadi.\\n\\nLebanon’s Interior Minister Nohad Machnouk told domestic television channel MTV that the child’s mother is believed to have married to al-Baghdadi six years ago for a period of three months, the BBC reports.\\n\\nThe Iraqi government had said she was not married to the Islamist leader.\\n\\nThe woman, identified as Saja al-Dulaimi, tried to enter Lebanon over a week ago accompanied by two sons and a daughter when she was detained by border guards.\\n\\nMachnouk claims al-Dulaimi is pregnant but the child is not al-Baghdadi’s.\\n\\n“We conducted DNA tests on her and the daughter, which showed she was the mother of the girl, and that the girl is [al-Baghdadi’s] daughter, based on DNA from Baghdadi from Iraq,” Machnouk told MTV.\\n\\nMachnouk said the children were staying at a care center while al-Dulaimi was being interrogated.\\n\\n[BBC] Confusion swirls, details murky in arrest of ISIS leader's 'wife'\"]\n",
            "['A RESPECTED senior French police officer investigating the Charlie Hebdo magazine massacre took his own life mere hours after the horrific attacks stunned the world.\\n\\nCommissioner Helric Fredou, 45, turned a gun on himself in his police office in Limoges last Wednesday night, reported France 3.\\n\\nA colleague found his body at 1am on Thursday, the day after three gunmen fired at the satirical magazine\\'s office and left 12 people dead.\\n\\nSpeaking to our sister publication Mirror Online, the Union of Commissioners of the National Police confirmed Mr Fredou had taken his own life.\\n\\n\\nIn a statement released after his death, a union spokesman said: \"It is with great sadness that we were informed this morning of the death of our colleague Helric Fredou, assigned as Deputy Director of the Regional Service Judicial Police in Limoges.\\n\\n\"On this particular day of national mourning, police commissioners are hit hard by the tragic death of one of their own.\\n\\n\"The Union of Commissioners of the National Police would like to present its most sincere condolences to the relatives of Helric.\\n\\n\"In these difficult times, we have a special thought for all his colleagues.\"\\n\\nMr Fredou - who was single and had no children - began his career as a police officer in 1997, working in Versailles.\\n\\nHe eventually returned to his home town of Limoges and in 2012 became deputy director of the regional police service.\\n\\n\\nFrench media reports suggest he was depressed and was suffering from burnout.\\n\\nBrothers Said and Cherif Kouachi launched last Wednesday\\'s devastating attack at the office\\'s of the French satirical magazine.\\n\\nThe attack left 12 people dead. On Friday, the pair were shot dead by police after taking a man hostage at a family-run printing press in Dammartin-en-Goele .\\n\\nIn a separate incident on Friday, Amedy Coulibaly, 32, took about 15 people hostage in a Paris supermarket.\\n\\nFour hostages were killed in the incident along with Coulibaly. Ferguson riots: Pregnant woman loses eye after cops fire BEAN BAG round through car window'\n",
            " \"Dave Morin's social networking company Path is reportedly in Apple Inc.'s acquisition path.\\n\\nApple Inc. is close to buying social network Path as it aims to bolster its social media efforts, PandoDaily reported, citing an internal source on Apple's engineering team.\\n\\nThe purchase would be more than an acquihire, the process when a company buys a company for its talent rather than its product. Path's platform will probably survive the acquisition and somehow be incorporated into Apple's revamped Messages app, according to the article. It isn't clear how big the price tag will be, but Path's 25 million users probably wouldn't command a sum that nears Facebook Inc.'s $19 billion purchase of WhatsApp, which boasts more than 400 million users.\\n\\nCo-founder and CEO Dave Morin declined to comment one way or another onstage at TechCrunch's Disrupt conference on Wednesday.\\n\\nSan Francisco-based Path, a personal mobile photo-sharing and message platform, has raised a total of $77 million from backers including First Round, Index Ventures, Redpoint Ventures, Insight Venture Partners, Kleiner Perkins Caufield & Byers and Greylock Partners. It most recently nabbed $25 million in January.\\n\\nClick here to sign up for TechFlash, the free daily email newsletter about founders and funders in the region. Crazy Conservatives Are Sure a Gitmo Detainee Killed James Foley\"\n",
            " \"A bereaved Afghan mother took revenge on the Taliban after watching them kill her son in an ambush. Reza Gul killed 25 Taliban fighters and injured five others in a seven-hour gunbattle in Farah province.\\n\\nGul, who was joined by her daughter and daughter in-law, engaged the Taliban using AK-47s and grenades, despitenever before having used a weapon.\\n\\nThe embattled mother told Tolo news, a 24-hour Afghan news broadcaster, she was awakened by shots early Tuesday. After seeing that her son had been killed, Gul and the other two women fought back.\\n\\n“I couldn't stop myself and picked up a weapon,” Gul told Tolo News. “I went to the check post and began shooting back.”\\n\\nSeema, her daughter-in-law, added: “The fighting was intensified when we reached the battlefield along with light and heavy weapons. We were committed to fight until the last bullet.”\\n\\nGul said that the battlefield was covered in Talib fighters after the deadly exchange ended.\\n\\nWhile the Taliban have not publicly commented on the incident, the Afghan government labeled it a symbol of a public uprising against the Taliban.\\n\\nTaliban and other groups have regained large swathes of the country as U.S. and NATO forces slowly pull out troops after 14 years of war. The Taliban have targeted government and foreign infrastructure as the group attempts to claw back power it lost in 2001.\\n\\nWhile the Taliban have made key gains in rural regions, members continue to employ suicide bomber tactics in well protected towns and cities. Earlier this week, 50 people were killed after a suicide bomber detonated a vest during a volleyball competition in Yahyakahil, Paktika province.\\n\\nThat particular attack prompted President Ashraf Ghani to order a complete overview of the country’s defense forces and to rethink the ban on nighttime raids, which were outlawed by his predecessor, Hamid Karzai. A Russian Guy Says His Justin Bieber Ringtone Saved Him From A Bear Attack\"\n",
            " ...\n",
            " 'UNITED NATIONS (CBS News/CBSDC/AP) — Iraq’s ambassador to the United Nations asked the U.N. Security Council on Tuesday to look at allegations that the Islamic State of Iraq and Syria (ISIS) is using organ harvesting as a way to finance its operations.\\nAmbassador Mohamed Alhakim told reporters that in the past few weeks, bodies with surgical incisions and missing kidneys or other body parts have been found in shallow mass graves.\\n“We have bodies. Come and examine them,” he said. “It is clear they are missing certain parts.”\\nHe also said a dozen doctors have been “executed” in Mosul for refusing to participate in organ harvesting.\\nAlhakim briefed the council on the overall situation in Iraq and accused ISIS of “crimes of genocide” in targeting certain ethnic groups.\\nThe outgoing U.N. envoy to Iraq, Nikolay Mladenov, told the council that 790 people were killed in January alone by terrorism and armed conflict.\\nMladenov noted the increasing number of reports and allegations that ISIS is using organ harvesting as a financing method, but he said only that “it’s very clear that the tactics ISIL is using expand by the day.” He used an alternative acronym for the group.\\nHe said Iraq’s most pressing goal is to win back the vast territory that ISIS has seized in the past year. The Sunni militants seized a third of both Iraq and neighboring Syria and imposed strict Sharia law.\\n“Especially worrying is the increasing number of reports of revenge attacks committed particularly against members of the Sunni community in areas liberated from ISIL control,” Mladenov said.\\nSheikh Ahmed Aburisha is a tribal leader from Anbar province in Iraq, 85 percent of which is under ISIS control. In late January, he visited Washington to urge the U.S. to give his tribes weapons and money so they can defeat ISIS in Anbar.\\n“Vice President Biden and Gen. [John] Allen have a clear picture of what is happening in Iraq and Anbar and what type of support is needed for the fighters in Anbar,” Aburisha told CBS News’ Jennifer Janisch. “We have received promises and we hope that these promises will materialize in reality on the ground.”\\n(TM and © Copyrigh Apple reportedly planning to shut down Beats Music subscription streaming service [u]'\n",
            " 'At CES 2015 event scheduled between Jan. 6 and Jan. 9, a potential company named Standzout will be showcasing its prototype of the Apple Watch accessory. The accessory in focus is the \"Bandstand Apple Watch dock.\" The aforesaid company calls it the first great Apple Watch accessory ever.\\n\\nThe dock apparently makes use of an \"induction charging plate to power the gadget\" and by doing so, it holds the smartwatch in place. In addition, there are two USB ports housed on the device to enable the user to charge other devices like Apple iPhones and iPads, notes Phone Arena. Interested readers can check out the Bandstand Apple Watch dock prototype from Gigaom.\\n\\nWhen it comes to Apple Watch release date, reports state that the Cupertino-headquartered company might launch its gadget on Valentine\\'s Day. Meanwhile, the sales predictions for the Apple Watch are as high as 30 million units and the demand is assumed to grow further, according to the same site. In contrast to other smartwatches available in the market, Apple will reportedly be marketing the Watch as a fashion accessory than a tech gear.\\n\\nWhen it comes to key features of the Apple Watch, the company is believed to be working on two different models, namely 38 mm and 42 mm versions of the smartwatch. Moreover, the gadget with high focus on fashion will be offered in six different casing options. In addition, the smartwatch\\'s band can reportedly be interchanged as required. As far as the pricing details go, the base variant of the Apple Watch i.e. the sports model will reportedly be priced at $349. But then, the high-end variants especially the solid gold/diamond model will go as high as several thousand dollars, says MacRumors.\\n\\nMoving on to the higher-end Apple Watch, Apple is planning to release a $30,150 priced model of the smartwatch, adorned in diamonds and sapphire. The sapphire and diamond-clad gadget will reportedly come with eight rows of \"high-grade 15 carat diamonds\" and it is considered to be the \"luxury edition\" of the smartwatch. Apparently, this device will also come equipped with sapphire glass display for extra protection, notes Phone Arena. Justin Bieber saves man from bear attack'\n",
            " 'On Sunday, the blogosphere went into overdrive when a Tweet attributed to Lisa Bonet seemed aimed at Bill Cosby.\\n\\n\"According to the karma of past actions, one\\'s destiny unfolds, even though everyone wants to be so lucky,\" read the Tweet, which was posted on an account using Bonet\\'s name. \"Nothing stays in the dark 4ever!\"\\n\\nWas Bonet – who played Cosby\\'s daughter, Denise, on The Cosby Show from 1989 to 1992 – addressing the numerous sexual assault allegations against the 77-year-old comedian? (The actor has denied the claims through his lawyer.)\\n\\nThe answer: No, she was not.\\n\\n\\n\\n\\n\"Lisa Bonet has no social media of any kind,\" her manager tells PEOPLE exclusively.\\n\\n\"Any posts made in her name were made by impersonators with unverified accounts. She also has no comment on the ongoing story.\"\\n\\nThe fake Twitter account has since been suspended.\\n\\nBonet isn\\'t the first of Cosby\\'s Huxtable family to speak out. Raven-Symoné (who played Cosby\\'s step-granddaughter, Olivia, on the show) took to social media last week to deny rumors that she was one of his victims.\\n\\n\"I was NOT taking advantage of by Mr. Cosby when I was on the Cosby Show!\" she posted on her Instagram. \"I was practically a baby on that show and this is truly a disgusting rumor that I want no part of! Everyone on that show treated me with nothing but kindness. Now keep me out of this!\" Saudi oil explosion now said to be diesel pipeline']\n"
          ]
        }
      ],
      "source": [
        "print(train_data)\n",
        "print(test_data)"
      ]
    },
    {
      "cell_type": "markdown",
      "metadata": {
        "id": "Fqdj7czYrsTc"
      },
      "source": [
        "<b>PREPROCESSING</b>"
      ]
    },
    {
      "cell_type": "code",
      "source": [
        "import nltk\n",
        "nltk.download('stopwords')\n",
        "nltk.download('wordnet')\n",
        "from nltk.corpus import stopwords\n",
        "stop_words = set(stopwords.words('english'))\n",
        "from nltk.stem import PorterStemmer \n",
        "from nltk.tokenize import word_tokenize\n",
        "import nltk \n",
        "from nltk.tokenize import sent_tokenize, word_tokenize\n",
        "from nltk.stem import WordNetLemmatizer\n",
        "from nltk.stem.porter import *\n",
        "# Use English stemmer.\n",
        "word_stemmer = PorterStemmer()\n",
        "wordnet_lemmatizer = WordNetLemmatizer()"
      ],
      "metadata": {
        "colab": {
          "base_uri": "https://localhost:8080/"
        },
        "id": "Ns6e_DC1SYao",
        "outputId": "e1bbac31-3e5d-4f28-89d0-11974909d5b5"
      },
      "execution_count": 11,
      "outputs": [
        {
          "output_type": "stream",
          "name": "stdout",
          "text": [
            "[nltk_data] Downloading package stopwords to /root/nltk_data...\n",
            "[nltk_data]   Unzipping corpora/stopwords.zip.\n",
            "[nltk_data] Downloading package wordnet to /root/nltk_data...\n",
            "[nltk_data]   Unzipping corpora/wordnet.zip.\n"
          ]
        }
      ]
    },
    {
      "cell_type": "code",
      "source": [
        "def decontracted(phrase):\n",
        "    # specific\n",
        "    phrase = re.sub(r\"won\\'t\", \"will not\", phrase)\n",
        "    phrase = re.sub(r\"can\\'t\", \"can not\", phrase)\n",
        "\n",
        "    # general\n",
        "    phrase = re.sub(r\"n\\'t\", \" not\", phrase)\n",
        "    phrase = re.sub(r\"\\'re\", \" are\", phrase)\n",
        "    phrase = re.sub(r\"\\'s\", \" is\", phrase)\n",
        "    phrase = re.sub(r\"\\'d\", \" would\", phrase)\n",
        "    phrase = re.sub(r\"\\'ll\", \" will\", phrase)\n",
        "    phrase = re.sub(r\"\\'t\", \" not\", phrase)\n",
        "    phrase = re.sub(r\"\\'ve\", \" have\", phrase)\n",
        "    phrase = re.sub(r\"\\'m\", \" am\", phrase)\n",
        "    return phrase"
      ],
      "metadata": {
        "trusted": true,
        "id": "13u5dwe__Y7v"
      },
      "execution_count": 12,
      "outputs": []
    },
    {
      "cell_type": "code",
      "source": [
        "def get_cleaned_data(input_data, mode='df'):\n",
        "    stop = stopwords.words('english')\n",
        "    \n",
        "    input_df = ''\n",
        "    \n",
        "    if mode != 'df':\n",
        "        input_df = pd.DataFrame(input_data, columns=['text'])\n",
        "    else:\n",
        "        input_df = input_data\n",
        "        \n",
        "    #lowercase the text\n",
        "    input_df['text'] = input_df['text'].str.lower()\n",
        "    \n",
        "    input_df['text'] = input_df['text'].apply(lambda elem: decontracted(elem))\n",
        "    \n",
        "    #remove special characters\n",
        "    input_df['text'] = input_df['text'].apply(lambda elem: re.sub(r\"(@[A-Za-z0-9]+)|([^0-9A-Za-z \\t])|(\\w+:\\/\\/\\S+)|^rt|http.+?\", \"\", elem))\n",
        "    \n",
        "    # remove numbers\n",
        "    input_df['text'] = input_df['text'].apply(lambda elem: re.sub(r\"\\d+\", \"\", elem))\n",
        "    \n",
        "    #remove stopwords\n",
        "    input_df['text'] = input_df['text'].apply(lambda x: ' '.join([word.strip() for word in x.split() if word not in (stop)]))\n",
        "    \n",
        "    #stemming, changes the word to root form\n",
        "#     input_df['text'] = input_df['text'].apply(lambda words: [word_stemmer.stem(word) for word in words])\n",
        "    \n",
        "    #lemmatization, same as stemmer, but language corpus is used to fetch the root form, so resulting words make sense\n",
        "#     more description @ https://www.datacamp.com/community/tutorials/stemming-lemmatization-python\n",
        "    input_df['text'] = input_df['text'].apply(lambda words: (wordnet_lemmatizer.lemmatize(words)))\n",
        "#     print(input_df.head(3))\n",
        "    \n",
        "    return input_df"
      ],
      "metadata": {
        "scrolled": true,
        "trusted": true,
        "id": "9rvXXyvM_Y7w"
      },
      "execution_count": 13,
      "outputs": []
    },
    {
      "cell_type": "code",
      "source": [
        "train_data = get_cleaned_data(train_data, mode='np')"
      ],
      "metadata": {
        "id": "rwbRqh-USlOj"
      },
      "execution_count": 14,
      "outputs": []
    },
    {
      "cell_type": "code",
      "source": [
        "train_data.head()\n",
        "train_data = train_data['text'].values.tolist()\n",
        "print(train_data[0])"
      ],
      "metadata": {
        "colab": {
          "base_uri": "https://localhost:8080/"
        },
        "id": "wwoeaENfbHy1",
        "outputId": "78719b29-57eb-4c9c-ab0a-ecb124ef3015"
      },
      "execution_count": 15,
      "outputs": [
        {
          "output_type": "stream",
          "name": "stdout",
          "text": [
            "danny boyle directing untitled filmseth rogen eyed play apple cofounder steve wozniak sonys steve jobs biopicdanny boyle directing untitled film based walter isaacson book adapted aaron sorkin one anticipated biopics recent yearsnegotiations yet begun even clear rogen official offer producers scott rudin guymon casady mark gordon set sights talent talksof course may naught christian bale actor play jobs still midst closing deal sources say dealmaking process sensitive stageinsiders say boyle flying los angeles meet actress play one female leads assistant jobs insiders say jessica chastain one actresses meeting listwozniak known woz cofounded apple jobs ronald wayne first met jobs worked atari later responsible creating early apple computers police find mass graves least bodies near mexico town students disappeared police clash\n"
          ]
        }
      ]
    },
    {
      "cell_type": "markdown",
      "source": [
        "STEMMING"
      ],
      "metadata": {
        "id": "j87YVOfP13AM"
      }
    },
    {
      "cell_type": "code",
      "source": [
        "import nltk\n",
        "nltk.download('punkt')\n",
        "from nltk.stem.porter import PorterStemmer   #to be used for our task\n",
        "from nltk.stem.lancaster import LancasterStemmer\n",
        "from nltk.stem import SnowballStemmer "
      ],
      "metadata": {
        "colab": {
          "base_uri": "https://localhost:8080/"
        },
        "id": "hdaYfv7m1-gg",
        "outputId": "2bbc7ab3-d45f-44c5-dbc7-6ba78475b542"
      },
      "execution_count": 18,
      "outputs": [
        {
          "output_type": "stream",
          "name": "stdout",
          "text": [
            "[nltk_data] Downloading package punkt to /root/nltk_data...\n",
            "[nltk_data]   Unzipping tokenizers/punkt.zip.\n"
          ]
        }
      ]
    },
    {
      "cell_type": "code",
      "source": [
        "def token_stem_data(data):\n",
        "  ret_data = []\n",
        "  count = 0\n",
        "  for a in data:\n",
        "    print(count)\n",
        "    a = a.lower()\n",
        "    tokens = nltk.word_tokenize(a)\n",
        "    stemmed = []\n",
        "    for f in tokens:\n",
        "      stemmed.append(PorterStemmer().stem(f))\n",
        "    ret_data.append(stemmed)\n",
        "    count = count + 1\n",
        "  return ret_data\n"
      ],
      "metadata": {
        "id": "EN0lXYRV2_dY"
      },
      "execution_count": 25,
      "outputs": []
    },
    {
      "cell_type": "code",
      "source": [
        "train_data = token_stem_data(train_data)"
      ],
      "metadata": {
        "id": "1mRCeTfG4tOW"
      },
      "execution_count": null,
      "outputs": []
    },
    {
      "cell_type": "code",
      "execution_count": 18,
      "metadata": {
        "id": "e4Wocs3GrrwO"
      },
      "outputs": [],
      "source": [
        "from keras.preprocessing.text import text_to_word_sequence\n",
        "def to_word_seq(data):\n",
        "  list_data = []\n",
        "  for a in data:\n",
        "    list1 = text_to_word_sequence(a, lower=True)\n",
        "    list_data.append(list1)\n",
        "  return list_data\n"
      ]
    },
    {
      "cell_type": "code",
      "execution_count": 18,
      "metadata": {
        "id": "FNxun7HT6eE6"
      },
      "outputs": [],
      "source": [
        "train_data = to_word_seq(train_data)\n",
        "test_data = to_word_seq(test_data)"
      ]
    },
    {
      "cell_type": "code",
      "execution_count": 11,
      "metadata": {
        "id": "G9t8DwhAfJFC"
      },
      "outputs": [],
      "source": [
        "from keras.preprocessing.text import Tokenizer\n",
        "from keras.preprocessing.sequence import pad_sequences\n",
        "tokenizer = Tokenizer(num_words=10000,lower=True,split=' ')\n",
        "combine_data = np.concatenate((train_data,test_data),axis=0)\n",
        "tokenizer.fit_on_texts(combine_data)\n",
        "train_data = tokenizer.texts_to_sequences(train_data)\n",
        "test_data = tokenizer.texts_to_sequences(test_data)\n",
        "train_data = pad_sequences(train_data, maxlen=500)\n",
        "test_data = pad_sequences(test_data, maxlen=500)\n",
        "word_index = tokenizer.word_index\n"
      ]
    },
    {
      "cell_type": "code",
      "execution_count": 17,
      "metadata": {
        "colab": {
          "base_uri": "https://localhost:8080/"
        },
        "id": "asl_ZpQ8geP6",
        "outputId": "28bcb1bd-5226-4d87-93f5-a1ab291a9290"
      },
      "outputs": [
        {
          "output_type": "stream",
          "name": "stdout",
          "text": [
            "[   0    0    0    0    0    0    0    0    0    0    0    0    0    0\n",
            "    0    0    0    0    0    0    0    0    0    0    0    0    0    0\n",
            "    0    0    0    0    0    0    0    0    0    0    0    0    0    0\n",
            "    0    0    0    0    0    0    0    0    0    0    0    0    0    0\n",
            "    0    0    0    0    0    0    0    0    0    0    0    0    0    0\n",
            "    0    0    0    0    0    0    0    0    0    0    0    0    0    0\n",
            "    0    0    0    0    0    0    0    0    0    0    0    0    0    0\n",
            "    0    0    0    0    0    0    0    0    0    0    0    0    0    0\n",
            "    0    0    0    0    0    0    0    0    0    0    0    0    0    0\n",
            "    0    0    0    0    0    0    0    0    0    0    0    0    0    0\n",
            "    0    0    0    0    0    0    0    0    0    0    0    0    0    0\n",
            "    0    0    0    0    0    0    0    0    0    0    0    0    0    0\n",
            "    0    0    0    0    0    0    0    0    0    0    0    0    0    0\n",
            "    0    0    0    0    0    0    0    0    0    0    0    0    0    0\n",
            "    0    0    0    0    0    0    0    0    0    0    0    0    0    0\n",
            "    0    0    0    0    0    0    0    0    0    0    0    0    0    0\n",
            "    0    0    0    0    0    0    0    0    0    0    0    0    0    0\n",
            "    0    0    0    0    0    0    0    0    0    0    0    0    0    0\n",
            "    0    0    0    0    0    0    0    0    0    0    0    0    0    0\n",
            "    0    0    0    0    0    0    0    0    0    0    0    0    0    0\n",
            "    0    0    0    0    0    0    0    0    0    0    0    0    0    0\n",
            "    0    0    0    0    0    0    0    0    0    0    0    0    0    0\n",
            "    0    0    0    0    0    0    0    0    0    0    0    0    0    0\n",
            "    0    0    0    0    0    0    0    0    0    0    0    0    0    0\n",
            "    0    0    0    0    0    0    0    0    0    0    0    0    0    0\n",
            "    0    0    0    0    0    0    0    0    0    0    0    0    0    0\n",
            "    0    0    0    0    0    0    0    0    0    0    0    0    0    0\n",
            "    0    0    0    0    0    0    0    0    0    0    0    0    0    0\n",
            "    0    0    0    0    0 2828 2551 6342 1918  572   13 1884  480 2362\n",
            "  480  331 2551 6342  537  466 3128 4096 1376 9415 2156 1306   16 2967\n",
            "  275  396 3129   75  430 1918  124  807 4001 4998 7683 7749 9087  731\n",
            " 5209  274 5541 4436  995   62  592  647  769  572  331  102 5809 7037\n",
            "  379  191   90 1728 5010   90 2551 1370 1912 2139 1444 3648  572   16\n",
            "  361 2998 3284  331 7038   90 4981 8322   16  671  155 5397   13  331\n",
            " 5497   48  844  331 1020  166 1362 2847  315   13 3836   55  297  720\n",
            " 1611  195  956  141  851  217  410 1680   55 6845]\n",
            "[   0    0    0    0    0    0    0    0    0    0    0    0    0    0\n",
            "    0    0    0    0    0    0    0    0    0    0    0    0    0    0\n",
            "    0    0    0    0    0    0    0    0    0    0    0    0    0    0\n",
            "    0    0    0    0    0    0    0    0    0    0    0    0    0    0\n",
            "    0    0    0    0    0    0    0    0    0    0    0    0    0    0\n",
            "    0    0    0    0    0    0    0    0    0    0    0    0    0    0\n",
            "    0    0    0    0    0    0    0    0    0    0    0    0    0    0\n",
            "    0    0    0    0    0    0    0    0    0    0    0    0    0    0\n",
            "    0    0    0    0    0    0    0    0    0    0    0    0    0    0\n",
            "    0    0    0    0    0    0    0    0    0    0    0    0    0    0\n",
            "    0    0    0    0    0    0    0    0    0    0    0    0    0    0\n",
            "    0    0    0    0    0    0    0    0    0    0    0    0    0    0\n",
            "    0    0    0    3 5521  464 1055   55  272 1147    1 1361 1872  759\n",
            " 2467  119   35  589  142 6954  475   77    1 2821  444 2793    1  133\n",
            " 1598 3058 1924 3343  528    3 1151   11 1154    6   35   55  247    6\n",
            " 3088   49  283  266   59 1820 1022    3 2777  125   35  370   40 8975\n",
            "   11  436    1  135   77   94 2059  450   40    1 1784 9030  247    5\n",
            "  150 1858   29  215  864    2  556  718 1249 1570  282    1 1743    4\n",
            " 4908    4    1  201   55  152  164 1924   67  134   35  589  142    6\n",
            "    3  160  143   77   35  105    3 1743  267    7   17   10   18  749\n",
            " 6662    8  132   78 2772   51  486    4    1  105    4  556 2777 3058\n",
            " 1924 4223   21 1385  378    4    1 1816  183 3314   55    6 3088   11\n",
            "   51 1462  135    4  201 4779   55 4908   53  308  963   26    1 4318\n",
            "  105    4   16    4  100  589    1 1743    4 4908    4    1  201   55\n",
            "   14   58    2 2013   83  518 8844 2298    2    1 1559    4 3058    6\n",
            "  638 1204  162  132   30    3 1114  261   12  184   35 3037  164 1924\n",
            "   60    9  904    5   67  181  295  332   35 2136   21    3   55  272\n",
            "    6 6223  362    6 9291   28 1128  713    2   35  233  217    4 3088\n",
            "    5    6 1766  609 1385  378    4    1 1816   55  183 1055   71   52\n",
            " 1320   28    9 4513    5    9  974   32 2023    7    5 7386 7387  748\n",
            "   49 4300  156   40    1    4    1 1055 1784  759    1  156  150 1858\n",
            "   29  215   11  441    1 1709   78  206  215   26   55   77  366    3\n",
            "   41  548   40    3   81  742 3835  219    6 5933    6    3  931  429\n",
            "   11  441 8543 4042  119   97 2161   29  548    6    3 2170 7492  434\n",
            "  574   78   72    6    1  429  510   18 8543  503 7624 1319   85 6403\n",
            " 1340   77 3426  675 5802 1531 1477  867  364 2230]\n"
          ]
        }
      ],
      "source": [
        "print(train_data[0])\n",
        "print(test_data[0])"
      ]
    },
    {
      "cell_type": "markdown",
      "source": [
        "CHI-SQUARE FEATURE EXTRACTION"
      ],
      "metadata": {
        "id": "tmdBGw9i1WXO"
      }
    },
    {
      "cell_type": "code",
      "execution_count": 18,
      "metadata": {
        "colab": {
          "base_uri": "https://localhost:8080/"
        },
        "id": "vcNyx9gnp_0u",
        "outputId": "f121cf38-558e-4f17-c4b6-82cd06ce952d"
      },
      "outputs": [
        {
          "output_type": "stream",
          "name": "stdout",
          "text": [
            "Reduced feature number: 200\n"
          ]
        }
      ],
      "source": [
        "# Load libraries\n",
        "from sklearn.datasets import load_iris\n",
        "from sklearn.feature_selection import SelectKBest\n",
        "from sklearn.feature_selection import chi2\n",
        "  \n",
        "  \n",
        "# Two features with highest chi-squared statistics are selected\n",
        "chi2_features = SelectKBest(chi2, k = 200)\n",
        "train_data = chi2_features.fit_transform(train_data, train_label)\n",
        "test_data = chi2_features.fit_transform(test_data, test_label)\n",
        "  \n",
        "# Reduced features\n",
        "print('Reduced feature number:', train_data.shape[1])"
      ]
    },
    {
      "cell_type": "markdown",
      "source": [
        "PCA FEATURE EXTRACTION"
      ],
      "metadata": {
        "id": "sjkFnlHA1ans"
      }
    },
    {
      "cell_type": "code",
      "source": [
        "from sklearn import decomposition, datasets\n",
        "from sklearn.preprocessing import StandardScaler\n",
        "#scaling\n",
        "std_slc = StandardScaler()\n",
        "train_std = std_slc.fit_transform(train_data)\n",
        "test_std = std_slc.fit_transform(test_data)\n",
        "\n",
        "print(train_std.shape, test_std.shape)\n",
        "#PCA\n",
        "pca = decomposition.PCA(n_components=200)\n",
        "\n",
        "train_std_pca = pca.fit_transform(train_data)\n",
        "test_std_pca = pca.fit_transform(test_data)\n",
        "\n",
        "print(train_std_pca.shape, test_std_pca.shape)\n"
      ],
      "metadata": {
        "colab": {
          "base_uri": "https://localhost:8080/"
        },
        "id": "FhshVy4m1dpG",
        "outputId": "bacb0870-e5c7-4f88-877b-aca101c925ea"
      },
      "execution_count": 27,
      "outputs": [
        {
          "output_type": "stream",
          "name": "stdout",
          "text": [
            "(24986, 500) (12706, 500)\n",
            "(24986, 200) (12706, 200)\n"
          ]
        }
      ]
    },
    {
      "cell_type": "markdown",
      "metadata": {
        "id": "CEzVFNnFoRWZ"
      },
      "source": [
        "<b>Installing modules</b>\n",
        "\n",
        "We start by installing the ‘gensim’ and ‘nltk’ modules.\n",
        "```\n",
        "pip install gensim\n",
        "pip install nltk\n",
        "```\n",
        "<b>Importing libraries</b>\n",
        "```\n",
        "from nltk.tokenize import sent_tokenize, word_tokenize\n",
        "import gensim\n",
        "from gensim.models import Word2Vec\n",
        "```\n",
        "<b>Building the Word2Vec model using Gensim</b><br>\n",
        "To create the word embeddings using CBOW architecture or Skip Gram architecture, you can use the following respective lines of code:\n",
        "```\n",
        "model1 = gensim.models.Word2Vec(data, min_count = 1,size = 100, window = 5, sg=0) \n",
        "model2 = gensim.models.Word2Vec(data, min_count = 1, size = 100, window = 5, sg = 1)\n",
        "```"
      ]
    },
    {
      "cell_type": "code",
      "execution_count": null,
      "metadata": {
        "colab": {
          "base_uri": "https://localhost:8080/"
        },
        "id": "418yYxnappxr",
        "outputId": "1f3bdb04-353b-48b1-f079-5f5fbb9f60bc"
      },
      "outputs": [
        {
          "name": "stdout",
          "output_type": "stream",
          "text": [
            "Requirement already satisfied: gensim in /usr/local/lib/python3.7/dist-packages (3.6.0)\n",
            "Requirement already satisfied: smart-open>=1.2.1 in /usr/local/lib/python3.7/dist-packages (from gensim) (5.2.1)\n",
            "Requirement already satisfied: scipy>=0.18.1 in /usr/local/lib/python3.7/dist-packages (from gensim) (1.4.1)\n",
            "Requirement already satisfied: six>=1.5.0 in /usr/local/lib/python3.7/dist-packages (from gensim) (1.15.0)\n",
            "Requirement already satisfied: numpy>=1.11.3 in /usr/local/lib/python3.7/dist-packages (from gensim) (1.21.6)\n",
            "Requirement already satisfied: nltk in /usr/local/lib/python3.7/dist-packages (3.2.5)\n",
            "Requirement already satisfied: six in /usr/local/lib/python3.7/dist-packages (from nltk) (1.15.0)\n"
          ]
        }
      ],
      "source": [
        "!pip install gensim\n",
        "!pip install nltk"
      ]
    },
    {
      "cell_type": "code",
      "execution_count": 19,
      "metadata": {
        "id": "Tm1hCFiOp0zU"
      },
      "outputs": [],
      "source": [
        "import gensim\n",
        "from gensim.models import Word2Vec\n",
        "from gensim.test.utils import common_texts"
      ]
    },
    {
      "cell_type": "markdown",
      "source": [
        ""
      ],
      "metadata": {
        "id": "WaIVZO0QkdL-"
      }
    },
    {
      "cell_type": "code",
      "source": [
        "model = Word2Vec(sentences=train_data, size=100, window=5, min_count=1, workers=4)"
      ],
      "metadata": {
        "id": "IBZT0SXNFfjd"
      },
      "execution_count": 20,
      "outputs": []
    },
    {
      "cell_type": "code",
      "source": [
        "from gensim.models.keyedvectors import KeyedVectors\n",
        "def get_embeddings(path):\n",
        "  # model = gensim.models.KeyedVectors.load_word2vec_format('GoogleNews-vectors-negative300', binary=True, limit=500000)\n",
        "  wv_from_bin = KeyedVectors.load_word2vec_format(path, binary=True, limit=500000) \n",
        "  #extracting word vectors from google news vector\n",
        "  embeddings_index = {}\n",
        "  for word, vector in zip(wv_from_bin.vocab, wv_from_bin.vectors):\n",
        "      coefs = np.asarray(vector, dtype='float32')\n",
        "      embeddings_index[word] = coefs[0:100]\n",
        "  \n",
        "  return embeddings_index"
      ],
      "metadata": {
        "id": "d4iMkiz8Nru_"
      },
      "execution_count": 12,
      "outputs": []
    },
    {
      "cell_type": "code",
      "source": [
        "embeddings_index = {}\n",
        "embeddings_index = get_embeddings('/content/drive/MyDrive/fnc_1_dataset/GoogleNews-vectors-negative300.bin')\n",
        "print('Found %s word vectors.' % len(embeddings_index))"
      ],
      "metadata": {
        "colab": {
          "base_uri": "https://localhost:8080/"
        },
        "id": "8_PJYhojOKne",
        "outputId": "c6a927ac-2b70-4283-d7ca-a0bc71a6df13"
      },
      "execution_count": 13,
      "outputs": [
        {
          "output_type": "stream",
          "name": "stdout",
          "text": [
            "Found 500000 word vectors.\n"
          ]
        }
      ]
    },
    {
      "cell_type": "code",
      "source": [
        "vocab_size = len(tokenizer.word_index) + 1\n",
        "\n",
        "embedding_matrix = np.zeros((vocab_size, 100))\n",
        "for word, i in word_index.items():\n",
        "    try:\n",
        "        embedding_vector = embeddings_index[word]\n",
        "        embedding_matrix[i] = embedding_vector\n",
        "    except KeyError:\n",
        "        embedding_matrix[i]=np.random.normal(0,np.sqrt(0.25),100)"
      ],
      "metadata": {
        "id": "mEx548W_OXIJ"
      },
      "execution_count": 14,
      "outputs": []
    },
    {
      "cell_type": "code",
      "source": [
        "sentences = [[\"cat\", \"say\", \"meow\"], [\"dog\", \"say\", \"woof\"]]\n",
        "print(type(sentences))\n",
        "model = Word2Vec(sentences, min_count=1)"
      ],
      "metadata": {
        "colab": {
          "base_uri": "https://localhost:8080/"
        },
        "id": "3MkZI9SKK2Km",
        "outputId": "2e0d6200-2a3e-4bed-ed1b-633b81bb0ea9"
      },
      "execution_count": 47,
      "outputs": [
        {
          "output_type": "stream",
          "name": "stdout",
          "text": [
            "<class 'list'>\n"
          ]
        }
      ]
    },
    {
      "cell_type": "code",
      "source": [
        "sum = 0\n",
        "max = 0\n",
        "for a in train_data:\n",
        "  count = 0\n",
        "  for b in a:\n",
        "    count = count + 1\n",
        "  sum = sum + count\n",
        "  if count > max:\n",
        "    max = count\n",
        "print(max)\n",
        "print(sum/len(train_data))"
      ],
      "metadata": {
        "colab": {
          "base_uri": "https://localhost:8080/"
        },
        "id": "9h_32VKlK5rb",
        "outputId": "f55e14d1-9f95-4048-c6fd-c45fcb0eef5c"
      },
      "execution_count": 21,
      "outputs": [
        {
          "output_type": "stream",
          "name": "stdout",
          "text": [
            "2655\n",
            "212.4508124549748\n"
          ]
        }
      ]
    },
    {
      "cell_type": "code",
      "source": [
        "def construct_embedding(data):\n",
        "  ret_data = []\n",
        "  for a in data:\n",
        "    size = len(a)\n",
        "    data1 = []\n",
        "    if(size < 300):\n",
        "      for b in range(0,size):\n",
        "        vec = model.wv[a[b]]\n",
        "        data1.append(vec)\n",
        "      for c in range(size,500):\n",
        "        vec = []\n",
        "        for d in range(0,100):\n",
        "          vec.append(0)\n",
        "        data1.append(vec)\n",
        "      ret_data.append(data1)\n",
        "    else:\n",
        "      for c in range(0,300):\n",
        "        vec = []\n",
        "        for d in range(0,100):\n",
        "          vec.append(0)\n",
        "        data1.append(vec)\n",
        "      ret_data.append(data1)\n",
        "  return ret_data\n",
        "  "
      ],
      "metadata": {
        "id": "jfQnLxufP2-u"
      },
      "execution_count": 22,
      "outputs": []
    },
    {
      "cell_type": "code",
      "source": [
        "train_data = construct_embedding(train_data)"
      ],
      "metadata": {
        "id": "yuqAKkkgRbxU"
      },
      "execution_count": 23,
      "outputs": []
    },
    {
      "cell_type": "code",
      "source": [
        "print(train_data[0])"
      ],
      "metadata": {
        "id": "gGDqaPjofirA"
      },
      "execution_count": null,
      "outputs": []
    },
    {
      "cell_type": "code",
      "source": [
        "sims = model.wv.most_similar('cat', topn=10)  # get other similar words\n",
        "print(sims)"
      ],
      "metadata": {
        "colab": {
          "base_uri": "https://localhost:8080/"
        },
        "id": "ZB6yDUdHJn-A",
        "outputId": "22691ca1-a232-4a12-ed83-36acf3ba90ec"
      },
      "execution_count": 20,
      "outputs": [
        {
          "output_type": "stream",
          "name": "stdout",
          "text": [
            "[('mundesley', 0.7636129856109619), ('adjacent', 0.5414031744003296), ('fireplace', 0.5349620580673218), ('minot', 0.5213156342506409), ('5mm', 0.5195441246032715), ('ewash', 0.5124074220657349), ('seventies', 0.4971475601196289), ('emanuela', 0.4936350882053375), ('degu', 0.4919605851173401), ('chipotle', 0.49072736501693726)]\n"
          ]
        }
      ]
    },
    {
      "cell_type": "code",
      "execution_count": null,
      "metadata": {
        "id": "SYry30FVp2yt"
      },
      "outputs": [],
      "source": [
        "model1 = gensim.models.Word2Vec(train_data, min_count = 1,size = 100, window = 5, sg=0) \n"
      ]
    },
    {
      "cell_type": "code",
      "execution_count": null,
      "metadata": {
        "id": "PwqwBHlunZDK"
      },
      "outputs": [],
      "source": [
        "!pip install bert-embedding\n",
        "# If you want to run on GPU machine, please install `mxnet-cu92`.\n",
        "!pip install mxnet-cu92"
      ]
    },
    {
      "cell_type": "code",
      "execution_count": null,
      "metadata": {
        "id": "pde81UZknbry"
      },
      "outputs": [],
      "source": [
        "from bert_embedding import BertEmbedding\n",
        "\n",
        "bert_abstract = \"\"\"We introduce a new language representation model called BERT, which stands for Bidirectional Encoder Representations from Transformers.\n",
        " Unlike recent language representation models, BERT is designed to pre-train deep bidirectional representations by jointly conditioning on both left and right context in all layers.\n",
        " As a result, the pre-trained BERT representations can be fine-tuned with just one additional output layer to create state-of-the-art models for a wide range of tasks, such as question answering and language inference, without substantial task-specific architecture modifications. \n",
        "BERT is conceptually simple and empirically powerful. \n",
        "It obtains new state-of-the-art results on eleven natural language processing tasks, including pushing the GLUE benchmark to 80.4% (7.6% absolute improvement), MultiNLI accuracy to 86.7 (5.6% absolute improvement) and the SQuAD v1.1 question answering Test F1 to 93.2 (1.5% absolute improvement), outperforming human performance by 2.0%.\"\"\"\n",
        "sentences = bert_abstract.split('\\n')\n",
        "bert_embedding = BertEmbedding()\n",
        "result = bert_embedding(sentences)\n",
        "print(result.shape)"
      ]
    },
    {
      "cell_type": "markdown",
      "source": [
        "![image.png](data:image/png;base64,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)"
      ],
      "metadata": {
        "id": "4NIBSV-JhR4E"
      }
    },
    {
      "cell_type": "code",
      "execution_count": 16,
      "metadata": {
        "id": "Cjuuv8VDw9cH"
      },
      "outputs": [],
      "source": [
        "import tensorflow as tf\n",
        "from keras.layers import LSTM, Conv1D, Embedding, GlobalMaxPooling1D, Dropout, Dense, MaxPooling1D\n",
        "from keras.models import Sequential"
      ]
    },
    {
      "cell_type": "code",
      "execution_count": 17,
      "metadata": {
        "id": "zIZ8nlUn0O5k",
        "colab": {
          "base_uri": "https://localhost:8080/"
        },
        "outputId": "5994c0cb-5bce-41a6-fba5-c8b9ff39bf86"
      },
      "outputs": [
        {
          "output_type": "stream",
          "name": "stdout",
          "text": [
            "KerasTensor(type_spec=TensorSpec(shape=(None, 496, 64), dtype=tf.float32, name=None), name='conv1d/Relu:0', description=\"created by layer 'conv1d'\")\n",
            "KerasTensor(type_spec=TensorSpec(shape=(None, 248, 64), dtype=tf.float32, name=None), name='max_pooling1d/Squeeze:0', description=\"created by layer 'max_pooling1d'\")\n",
            "KerasTensor(type_spec=TensorSpec(shape=(None, 248, 64), dtype=tf.float32, name=None), name='dropout/Identity:0', description=\"created by layer 'dropout'\")\n",
            "KerasTensor(type_spec=TensorSpec(shape=(None, 100), dtype=tf.float32, name=None), name='lstm/PartitionedCall:0', description=\"created by layer 'lstm'\")\n",
            "KerasTensor(type_spec=TensorSpec(shape=(None, 50), dtype=tf.float32, name=None), name='dense/Relu:0', description=\"created by layer 'dense'\")\n",
            "KerasTensor(type_spec=TensorSpec(shape=(None, 4), dtype=tf.float32, name=None), name='dense_1/Softmax:0', description=\"created by layer 'dense_1'\")\n"
          ]
        }
      ],
      "source": [
        "\n",
        "model = Sequential()\n",
        "#model.add(Embedding(input_dim=(200),output_dim=(200,100)))\n",
        "model.add(Embedding(vocab_size, output_dim=100, weights=[embedding_matrix], input_length=500, trainable=False))\n",
        "model.add(Conv1D(filters=64, input_shape=(300,100),kernel_size=5, activation='relu'))\n",
        "print(model.output)\n",
        "model.add(MaxPooling1D())\n",
        "print(model.output)\n",
        "model.add(Dropout(0.2))\n",
        "print(model.output)\n",
        "model.add(LSTM(units=100, return_sequences = False))\n",
        "print(model.output)\n",
        "model.add(Dense(units = 50 , activation = 'relu'))\n",
        "print(model.output)\n",
        "model.add(Dense(4, activation='softmax'))\n",
        "print(model.output)\n",
        "model.compile(optimizer='adam', loss='binary_crossentropy', metrics=['accuracy'])"
      ]
    },
    {
      "cell_type": "code",
      "source": [
        "model = Sequential()\n",
        "model.add(Embedding(input_dim=10000,output_dim=100, input_shape=(200,)))\n",
        "print(model.output)\n",
        "model.add(Conv1D(filters=64,kernel_size=5, activation='relu'))\n",
        "print(model.output)\n",
        "model.add(MaxPooling1D())\n",
        "print(model.output)\n",
        "model.add(Dropout(0.2))\n",
        "print(model.output)\n",
        "model.add(LSTM(units=100, return_sequences = False))\n",
        "print(model.output)\n",
        "model.add(Dense(units = 50 , activation = 'relu'))\n",
        "print(model.output)\n",
        "model.add(Dense(4, activation='softmax'))\n",
        "print(model.output)\n",
        "model.compile(optimizer='adam', loss='binary_crossentropy', metrics=['accuracy'])"
      ],
      "metadata": {
        "colab": {
          "base_uri": "https://localhost:8080/"
        },
        "id": "Sn1SuHTFFNXj",
        "outputId": "6d95fcbf-3b62-41e4-d0db-81d6d5411d9c"
      },
      "execution_count": 24,
      "outputs": [
        {
          "output_type": "stream",
          "name": "stdout",
          "text": [
            "KerasTensor(type_spec=TensorSpec(shape=(None, 200, 100), dtype=tf.float32, name=None), name='embedding/embedding_lookup/Identity_1:0', description=\"created by layer 'embedding'\")\n",
            "KerasTensor(type_spec=TensorSpec(shape=(None, 196, 64), dtype=tf.float32, name=None), name='conv1d/Relu:0', description=\"created by layer 'conv1d'\")\n",
            "KerasTensor(type_spec=TensorSpec(shape=(None, 98, 64), dtype=tf.float32, name=None), name='max_pooling1d/Squeeze:0', description=\"created by layer 'max_pooling1d'\")\n",
            "KerasTensor(type_spec=TensorSpec(shape=(None, 98, 64), dtype=tf.float32, name=None), name='dropout/Identity:0', description=\"created by layer 'dropout'\")\n",
            "KerasTensor(type_spec=TensorSpec(shape=(None, 100), dtype=tf.float32, name=None), name='lstm/PartitionedCall:0', description=\"created by layer 'lstm'\")\n",
            "KerasTensor(type_spec=TensorSpec(shape=(None, 50), dtype=tf.float32, name=None), name='dense/Relu:0', description=\"created by layer 'dense'\")\n",
            "KerasTensor(type_spec=TensorSpec(shape=(None, 4), dtype=tf.float32, name=None), name='dense_1/Softmax:0', description=\"created by layer 'dense_1'\")\n"
          ]
        }
      ]
    },
    {
      "cell_type": "code",
      "source": [
        "model.summary()"
      ],
      "metadata": {
        "colab": {
          "base_uri": "https://localhost:8080/"
        },
        "id": "XARmnBoMwcTJ",
        "outputId": "3268d8a3-a736-459e-e86d-610ee512b50b"
      },
      "execution_count": 18,
      "outputs": [
        {
          "output_type": "stream",
          "name": "stdout",
          "text": [
            "Model: \"sequential\"\n",
            "_________________________________________________________________\n",
            " Layer (type)                Output Shape              Param #   \n",
            "=================================================================\n",
            " embedding (Embedding)       (None, 500, 100)          3377300   \n",
            "                                                                 \n",
            " conv1d (Conv1D)             (None, 496, 64)           32064     \n",
            "                                                                 \n",
            " max_pooling1d (MaxPooling1D  (None, 248, 64)          0         \n",
            " )                                                               \n",
            "                                                                 \n",
            " dropout (Dropout)           (None, 248, 64)           0         \n",
            "                                                                 \n",
            " lstm (LSTM)                 (None, 100)               66000     \n",
            "                                                                 \n",
            " dense (Dense)               (None, 50)                5050      \n",
            "                                                                 \n",
            " dense_1 (Dense)             (None, 4)                 204       \n",
            "                                                                 \n",
            "=================================================================\n",
            "Total params: 3,480,618\n",
            "Trainable params: 103,318\n",
            "Non-trainable params: 3,377,300\n",
            "_________________________________________________________________\n"
          ]
        }
      ]
    },
    {
      "cell_type": "code",
      "source": [
        "history = model.fit(train_data, train_label, validation_split=0.2, epochs=2, batch_size=32,verbose=1)"
      ],
      "metadata": {
        "colab": {
          "base_uri": "https://localhost:8080/"
        },
        "id": "gA0cCIuPliPM",
        "outputId": "410d2ddd-01eb-42bb-ad6d-4eaeda34bc5b"
      },
      "execution_count": 19,
      "outputs": [
        {
          "output_type": "stream",
          "name": "stdout",
          "text": [
            "Epoch 1/2\n",
            "625/625 [==============================] - 187s 295ms/step - loss: 0.3499 - accuracy: 0.7324 - val_loss: 0.3541 - val_accuracy: 0.7213\n",
            "Epoch 2/2\n",
            "625/625 [==============================] - 183s 293ms/step - loss: 0.3290 - accuracy: 0.7363 - val_loss: 0.3292 - val_accuracy: 0.7243\n"
          ]
        }
      ]
    },
    {
      "cell_type": "code",
      "source": [
        "import matplotlib.pyplot as plt\n",
        "plt.plot(history.history['accuracy'])\n",
        "plt.plot(history.history['val_accuracy'])\n",
        "plt.title('model accuracy')\n",
        "plt.ylabel('accuracy')\n",
        "plt.xlabel('epoch')\n",
        "plt.legend(['train', 'test'], loc='upper left')\n",
        "plt.show()\n",
        "# summarize history for loss\n",
        "plt.plot(history.history['loss'])\n",
        "plt.plot(history.history['val_loss'])\n",
        "plt.title('model loss')\n",
        "plt.ylabel('loss')\n",
        "plt.xlabel('epoch')\n",
        "plt.legend(['train', 'test'], loc='upper left')\n",
        "plt.show()"
      ],
      "metadata": {
        "colab": {
          "base_uri": "https://localhost:8080/",
          "height": 573
        },
        "id": "tOk-rI6mJhq_",
        "outputId": "581a3c20-d56d-4ed5-b77d-826f2547080e"
      },
      "execution_count": 20,
      "outputs": [
        {
          "output_type": "display_data",
          "data": {
            "text/plain": [
              "<Figure size 432x288 with 1 Axes>"
            ],
            "image/png": "[encoded data removed]"
          },
          "metadata": {
            "needs_background": "light"
          }
        },
        {
          "output_type": "display_data",
          "data": {
            "text/plain": [
              "<Figure size 432x288 with 1 Axes>"
            ],
            "image/png": "[encoded data removed]"
          },
          "metadata": {
            "needs_background": "light"
          }
        }
      ]
    },
    {
      "cell_type": "code",
      "source": [
        "predictions = model.predict(test_data)"
      ],
      "metadata": {
        "id": "YFZVMlFJGLiI"
      },
      "execution_count": 28,
      "outputs": []
    },
    {
      "cell_type": "code",
      "source": [
        "print(predictions)\n",
        "pred_res = []\n",
        "for a in predictions:\n",
        "  max = np.amax(a)\n",
        "  i = 0\n",
        "  for b in a:\n",
        "    if max == b:\n",
        "      pred_res.append(i)\n",
        "    i += 1\n"
      ],
      "metadata": {
        "colab": {
          "base_uri": "https://localhost:8080/"
        },
        "id": "OoG5eWvOQiV7",
        "outputId": "e452c40a-c21a-4a92-e976-dd6e4cc9ca62"
      },
      "execution_count": 29,
      "outputs": [
        {
          "output_type": "stream",
          "name": "stdout",
          "text": [
            "[[1.38365805e-01 9.23171416e-02 3.96182626e-01 3.73134404e-01]\n",
            " [9.25249696e-01 3.36336810e-03 6.08485080e-02 1.05384029e-02]\n",
            " [1.26983628e-01 1.08681224e-01 1.12537690e-01 6.51797473e-01]\n",
            " ...\n",
            " [9.82316554e-01 6.52100251e-04 1.49385724e-02 2.09276145e-03]\n",
            " [4.79702473e-01 4.29684073e-02 3.14047694e-01 1.63281471e-01]\n",
            " [5.69453657e-01 4.64598387e-02 1.26836479e-01 2.57250071e-01]]\n"
          ]
        }
      ]
    },
    {
      "cell_type": "code",
      "source": [
        "print(pred_res)"
      ],
      "metadata": {
        "colab": {
          "base_uri": "https://localhost:8080/"
        },
        "id": "vyZZtaRpaSST",
        "outputId": "ca0efcb5-0c9a-4074-fb05-ea105a9c0370"
      },
      "execution_count": 30,
      "outputs": [
        {
          "output_type": "stream",
          "name": "stdout",
          "text": [
            "[2, 0, 3, 2, 3, 0, 0, 3, 0, 0, 0, 3, 2, 0, 2, 0, 0, 3, 3, 3, 0, 0, 3, 3, 0, 3, 2, 0, 0, 3, 0, 3, 3, 0, 0, 3, 3, 0, 3, 0, 3, 0, 0, 2, 2, 0, 0, 0, 0, 3, 2, 2, 0, 2, 0, 2, 0, 3, 0, 0, 3, 0, 2, 3, 0, 0, 0, 2, 0, 0, 0, 2, 0, 2, 3, 2, 3, 2, 0, 0, 0, 2, 3, 0, 0, 0, 3, 0, 0, 0, 0, 0, 0, 0, 2, 0, 3, 2, 0, 2, 0, 0, 3, 0, 0, 2, 2, 2, 0, 0, 0, 0, 2, 0, 0, 3, 0, 0, 0, 3, 0, 2, 0, 3, 0, 2, 3, 0, 2, 0, 3, 0, 0, 0, 0, 0, 3, 0, 0, 2, 0, 0, 0, 0, 2, 0, 3, 3, 3, 0, 0, 0, 0, 0, 0, 2, 0, 0, 3, 0, 0, 0, 2, 3, 0, 3, 0, 0, 0, 2, 0, 0, 2, 0, 3, 2, 0, 2, 0, 2, 0, 0, 0, 0, 0, 3, 2, 2, 2, 0, 2, 0, 3, 0, 0, 0, 0, 2, 3, 3, 3, 2, 0, 0, 0, 3, 0, 0, 0, 0, 2, 0, 0, 0, 0, 0, 2, 0, 3, 0, 0, 0, 2, 0, 0, 0, 0, 3, 3, 0, 2, 0, 2, 0, 2, 0, 0, 0, 2, 0, 2, 0, 2, 3, 2, 0, 2, 2, 0, 2, 0, 0, 0, 0, 3, 3, 2, 0, 3, 0, 3, 0, 0, 0, 0, 0, 0, 0, 0, 2, 0, 0, 2, 0, 2, 3, 0, 0, 2, 2, 0, 2, 0, 0, 0, 0, 3, 3, 0, 2, 0, 0, 0, 2, 0, 0, 3, 3, 0, 0, 3, 3, 0, 2, 3, 2, 0, 3, 3, 0, 3, 2, 3, 0, 2, 2, 0, 2, 3, 0, 0, 2, 3, 0, 0, 0, 3, 3, 0, 3, 2, 0, 2, 0, 0, 0, 0, 3, 0, 3, 0, 2, 2, 0, 0, 2, 0, 2, 0, 0, 0, 0, 2, 2, 0, 0, 0, 0, 3, 2, 0, 0, 0, 2, 2, 0, 0, 3, 2, 2, 0, 0, 0, 0, 0, 3, 0, 0, 2, 0, 0, 0, 0, 0, 0, 3, 0, 0, 0, 3, 0, 0, 0, 0, 0, 3, 0, 0, 2, 2, 0, 0, 3, 3, 3, 0, 3, 2, 0, 3, 3, 3, 0, 0, 0, 0, 0, 0, 0, 0, 2, 0, 0, 0, 2, 0, 2, 2, 0, 2, 0, 0, 0, 0, 0, 3, 2, 2, 3, 3, 3, 2, 2, 0, 3, 0, 0, 0, 0, 0, 2, 0, 3, 0, 2, 0, 2, 2, 0, 0, 0, 3, 3, 0, 0, 3, 0, 0, 0, 0, 3, 2, 0, 0, 0, 0, 0, 2, 0, 0, 2, 0, 0, 0, 0, 3, 0, 0, 3, 0, 3, 0, 3, 0, 0, 3, 2, 2, 3, 0, 0, 0, 0, 0, 0, 2, 3, 0, 0, 0, 0, 0, 0, 2, 3, 2, 0, 0, 0, 3, 0, 3, 0, 0, 2, 3, 0, 0, 0, 0, 0, 2, 2, 3, 0, 0, 0, 3, 2, 0, 0, 0, 0, 2, 2, 2, 0, 3, 2, 3, 0, 2, 2, 0, 2, 3, 2, 3, 0, 3, 0, 3, 0, 0, 0, 3, 0, 0, 0, 3, 0, 0, 2, 3, 0, 2, 2, 2, 0, 3, 0, 0, 0, 0, 0, 2, 2, 3, 0, 2, 2, 2, 0, 3, 3, 2, 2, 2, 0, 0, 0, 2, 0, 2, 0, 0, 2, 0, 0, 3, 2, 0, 0, 0, 3, 3, 0, 2, 2, 2, 2, 2, 0, 2, 0, 2, 0, 0, 2, 2, 2, 0, 2, 0, 3, 0, 2, 0, 0, 2, 0, 2, 3, 3, 2, 2, 2, 0, 3, 2, 0, 0, 3, 0, 0, 3, 0, 0, 2, 2, 3, 3, 0, 0, 3, 0, 0, 0, 0, 3, 2, 0, 0, 0, 0, 0, 2, 3, 0, 0, 0, 2, 0, 0, 3, 0, 3, 0, 3, 3, 2, 0, 0, 3, 2, 2, 2, 2, 0, 3, 0, 2, 0, 2, 0, 2, 0, 0, 3, 3, 3, 0, 2, 2, 0, 3, 0, 0, 0, 0, 3, 0, 0, 3, 0, 0, 2, 0, 0, 0, 3, 3, 3, 0, 2, 0, 3, 2, 0, 0, 3, 2, 0, 2, 0, 3, 3, 3, 0, 0, 3, 0, 2, 2, 0, 2, 2, 0, 3, 3, 0, 2, 0, 2, 3, 0, 3, 0, 0, 0, 2, 2, 0, 0, 0, 0, 2, 2, 3, 3, 2, 2, 0, 2, 0, 2, 0, 0, 0, 0, 0, 3, 2, 3, 0, 3, 2, 3, 2, 0, 0, 2, 0, 3, 0, 0, 2, 0, 0, 3, 2, 0, 3, 0, 0, 3, 0, 0, 0, 3, 2, 2, 2, 0, 3, 3, 0, 3, 0, 0, 2, 0, 0, 3, 0, 0, 0, 0, 0, 2, 0, 2, 0, 2, 0, 0, 0, 0, 2, 0, 3, 0, 3, 0, 2, 3, 0, 0, 2, 0, 0, 2, 0, 3, 2, 0, 0, 2, 3, 3, 3, 0, 3, 0, 2, 0, 3, 0, 2, 0, 2, 2, 0, 0, 0, 0, 0, 3, 0, 0, 3, 2, 2, 3, 2, 0, 0, 3, 3, 0, 3, 0, 2, 0, 2, 0, 2, 0, 0, 2, 0, 0, 0, 0, 0, 2, 0, 0, 2, 2, 0, 2, 0, 0, 0, 2, 0, 0, 0, 3, 0, 0, 0, 2, 3, 0, 0, 0, 0, 0, 2, 0, 3, 0, 3, 3, 3, 0, 0, 2, 3, 3, 0, 2, 0, 2, 0, 3, 2, 2, 3, 2, 0, 0, 2, 0, 3, 0, 0, 0, 0, 0, 2, 0, 3, 2, 0, 0, 0, 0, 0, 2, 3, 3, 0, 3, 0, 0, 0, 0, 0, 0, 0, 0, 0, 0, 3, 0, 2, 3, 3, 0, 0, 0, 0, 0, 3, 0, 0, 2, 0, 2, 3, 3, 3, 0, 0, 0, 0, 2, 0, 3, 0, 3, 0, 0, 3, 0, 0, 2, 0, 0, 2, 0, 0, 0, 2, 0, 0, 2, 0, 2, 2, 2, 3, 3, 0, 2, 2, 0, 2, 0, 0, 0, 0, 3, 3, 3, 0, 3, 2, 2, 2, 0, 0, 3, 0, 2, 0, 0, 2, 0, 0, 2, 3, 3, 0, 2, 0, 3, 0, 2, 0, 0, 0, 3, 0, 2, 3, 3, 2, 0, 2, 0, 2, 2, 0, 0, 0, 2, 2, 0, 2, 2, 3, 2, 0, 2, 0, 0, 0, 2, 0, 0, 0, 3, 3, 3, 2, 0, 0, 0, 2, 0, 0, 0, 0, 2, 0, 0, 0, 3, 0, 2, 0, 0, 0, 0, 2, 3, 0, 0, 0, 3, 2, 2, 0, 0, 0, 0, 0, 0, 3, 0, 3, 0, 0, 0, 3, 0, 0, 0, 0, 0, 0, 0, 0, 0, 2, 0, 0, 2, 3, 0, 2, 0, 2, 0, 0, 0, 0, 0, 0, 0, 3, 3, 3, 0, 0, 0, 0, 0, 0, 0, 0, 0, 0, 3, 0, 3, 2, 2, 2, 0, 0, 2, 2, 0, 2, 2, 2, 2, 0, 0, 2, 0, 3, 2, 0, 3, 2, 0, 2, 2, 2, 2, 0, 2, 0, 3, 0, 2, 0, 3, 3, 0, 0, 0, 0, 0, 0, 2, 0, 3, 2, 0, 2, 0, 0, 2, 3, 0, 2, 0, 0, 0, 0, 3, 0, 0, 0, 0, 3, 0, 0, 0, 0, 2, 2, 2, 2, 0, 3, 0, 0, 2, 2, 2, 0, 0, 0, 0, 2, 0, 0, 2, 0, 2, 0, 0, 0, 3, 0, 0, 3, 0, 0, 3, 3, 0, 0, 0, 2, 0, 2, 0, 2, 0, 3, 0, 3, 3, 3, 0, 2, 2, 2, 0, 0, 0, 0, 0, 0, 0, 2, 2, 0, 0, 2, 0, 2, 0, 0, 2, 2, 0, 0, 0, 2, 3, 0, 0, 0, 0, 3, 3, 0, 0, 0, 2, 0, 3, 0, 0, 2, 3, 2, 3, 0, 0, 0, 0, 2, 3, 0, 0, 3, 2, 0, 0, 0, 0, 0, 3, 3, 0, 2, 0, 0, 2, 0, 3, 0, 0, 0, 0, 0, 3, 0, 0, 3, 0, 0, 2, 0, 3, 0, 0, 0, 0, 0, 0, 2, 0, 0, 0, 2, 0, 3, 0, 0, 0, 2, 2, 3, 0, 2, 0, 0, 2, 0, 0, 0, 2, 2, 3, 0, 2, 0, 0, 0, 3, 2, 0, 2, 0, 0, 0, 0, 3, 3, 2, 0, 0, 0, 0, 3, 0, 2, 2, 0, 0, 0, 2, 2, 0, 2, 2, 0, 3, 0, 3, 3, 0, 0, 2, 0, 0, 0, 0, 0, 2, 2, 3, 2, 0, 2, 0, 0, 2, 0, 0, 2, 2, 3, 0, 0, 0, 0, 2, 0, 0, 0, 0, 2, 2, 0, 2, 3, 2, 0, 0, 3, 0, 0, 0, 3, 3, 3, 3, 0, 3, 0, 0, 0, 2, 2, 3, 0, 2, 3, 0, 0, 0, 3, 0, 0, 0, 2, 2, 0, 2, 3, 3, 2, 0, 0, 2, 0, 3, 0, 3, 3, 0, 3, 2, 3, 3, 3, 2, 0, 0, 2, 0, 2, 0, 3, 2, 3, 2, 0, 0, 0, 2, 2, 0, 0, 3, 0, 0, 0, 0, 0, 0, 0, 2, 0, 0, 3, 2, 0, 3, 0, 2, 0, 0, 0, 2, 2, 0, 2, 2, 0, 0, 2, 0, 0, 2, 0, 0, 0, 0, 0, 2, 0, 2, 2, 2, 0, 0, 3, 2, 2, 2, 2, 0, 0, 2, 2, 0, 0, 0, 0, 3, 0, 0, 2, 0, 2, 2, 0, 0, 0, 0, 3, 2, 2, 0, 2, 0, 0, 0, 0, 0, 0, 3, 0, 0, 0, 0, 0, 2, 2, 0, 0, 0, 0, 0, 0, 2, 3, 0, 0, 0, 0, 2, 3, 2, 0, 2, 0, 2, 2, 3, 2, 0, 3, 3, 0, 0, 0, 2, 0, 0, 2, 0, 0, 2, 0, 0, 0, 2, 0, 2, 0, 0, 2, 0, 0, 3, 0, 2, 0, 0, 0, 2, 0, 3, 0, 2, 0, 0, 2, 3, 3, 0, 2, 3, 2, 2, 0, 0, 0, 0, 0, 0, 0, 3, 3, 2, 2, 0, 2, 0, 0, 2, 2, 0, 3, 0, 2, 0, 0, 3, 2, 0, 0, 2, 0, 2, 0, 0, 0, 3, 2, 0, 0, 0, 3, 3, 2, 0, 3, 2, 2, 2, 0, 0, 0, 2, 2, 3, 0, 2, 3, 2, 2, 0, 0, 0, 2, 3, 0, 3, 2, 0, 0, 0, 0, 0, 2, 2, 0, 0, 2, 0, 3, 0, 0, 3, 3, 0, 0, 3, 2, 0, 0, 0, 2, 0, 0, 3, 2, 2, 3, 0, 2, 0, 0, 2, 2, 0, 0, 2, 0, 2, 0, 2, 2, 3, 0, 0, 2, 3, 0, 0, 0, 0, 2, 0, 3, 2, 0, 0, 0, 0, 0, 2, 2, 0, 2, 0, 3, 3, 3, 2, 0, 0, 3, 0, 0, 0, 0, 3, 2, 0, 0, 0, 2, 2, 3, 0, 0, 3, 3, 2, 0, 0, 2, 2, 0, 0, 2, 0, 0, 0, 0, 0, 0, 2, 0, 2, 2, 2, 0, 3, 3, 0, 0, 0, 2, 0, 3, 0, 0, 0, 3, 0, 0, 0, 2, 0, 3, 0, 2, 2, 0, 0, 0, 0, 0, 2, 0, 3, 0, 2, 0, 0, 0, 2, 3, 3, 0, 0, 2, 2, 0, 0, 0, 0, 0, 2, 3, 0, 0, 2, 2, 0, 2, 0, 2, 0, 3, 0, 3, 0, 0, 2, 2, 2, 0, 0, 0, 0, 0, 0, 0, 0, 3, 2, 0, 3, 2, 2, 2, 0, 2, 0, 0, 0, 0, 2, 2, 2, 0, 0, 0, 0, 2, 0, 0, 0, 0, 3, 0, 3, 0, 2, 3, 0, 2, 0, 2, 0, 2, 0, 0, 2, 0, 2, 0, 3, 0, 0, 0, 0, 0, 0, 0, 0, 0, 0, 3, 0, 0, 2, 3, 0, 0, 2, 2, 0, 3, 0, 0, 0, 0, 0, 0, 0, 0, 2, 2, 2, 0, 0, 0, 3, 0, 2, 0, 0, 0, 0, 0, 2, 0, 2, 0, 0, 0, 0, 2, 0, 0, 2, 0, 0, 2, 3, 0, 3, 0, 3, 0, 2, 2, 0, 2, 3, 3, 2, 0, 0, 0, 0, 0, 0, 3, 0, 2, 0, 0, 0, 3, 3, 2, 2, 0, 0, 0, 0, 0, 3, 0, 2, 2, 0, 0, 0, 2, 0, 0, 0, 3, 0, 2, 0, 0, 3, 0, 0, 0, 2, 2, 0, 0, 0, 0, 0, 0, 3, 2, 0, 3, 2, 0, 0, 3, 3, 2, 0, 2, 0, 0, 0, 3, 0, 3, 0, 0, 3, 2, 2, 0, 0, 2, 0, 0, 3, 0, 0, 0, 0, 0, 0, 2, 0, 0, 2, 0, 0, 2, 2, 2, 3, 0, 0, 2, 2, 0, 3, 0, 2, 0, 0, 0, 0, 0, 0, 0, 0, 2, 2, 2, 2, 2, 3, 2, 0, 0, 2, 0, 2, 0, 3, 0, 3, 0, 0, 3, 0, 2, 0, 3, 0, 2, 3, 2, 3, 0, 2, 2, 0, 0, 0, 2, 2, 2, 2, 3, 2, 2, 2, 0, 0, 0, 2, 3, 2, 3, 0, 2, 3, 0, 0, 0, 0, 0, 0, 2, 0, 0, 3, 3, 0, 0, 0, 0, 2, 3, 2, 0, 0, 0, 0, 2, 0, 0, 0, 0, 0, 3, 2, 0, 3, 0, 3, 0, 3, 0, 0, 3, 2, 2, 0, 0, 2, 0, 0, 0, 0, 3, 0, 3, 0, 2, 0, 0, 0, 3, 2, 0, 2, 0, 0, 0, 0, 2, 0, 0, 0, 0, 0, 0, 0, 3, 0, 2, 2, 0, 2, 2, 0, 0, 3, 3, 0, 0, 0, 0, 0, 3, 0, 0, 0, 2, 0, 0, 2, 0, 3, 2, 2, 3, 0, 2, 0, 3, 0, 0, 3, 2, 2, 2, 0, 2, 0, 2, 0, 3, 3, 0, 0, 0, 2, 2, 0, 0, 2, 0, 0, 3, 2, 0, 2, 2, 0, 3, 0, 0, 3, 0, 0, 3, 0, 3, 0, 2, 2, 0, 0, 0, 3, 2, 0, 0, 0, 3, 0, 0, 0, 0, 0, 0, 0, 0, 0, 2, 2, 2, 0, 0, 0, 0, 2, 0, 0, 0, 0, 0, 0, 2, 2, 3, 2, 0, 2, 0, 0, 0, 2, 3, 0, 0, 0, 0, 2, 0, 3, 0, 0, 0, 0, 0, 0, 2, 2, 3, 0, 0, 0, 0, 0, 0, 0, 0, 0, 0, 0, 3, 2, 0, 0, 3, 0, 0, 2, 0, 0, 0, 0, 0, 0, 2, 0, 0, 2, 0, 3, 0, 2, 0, 0, 3, 3, 3, 0, 3, 0, 2, 0, 0, 0, 2, 0, 0, 2, 2, 0, 0, 0, 0, 3, 2, 0, 2, 2, 0, 0, 0, 3, 2, 0, 2, 2, 0, 3, 2, 2, 3, 2, 2, 3, 0, 2, 2, 0, 3, 0, 0, 0, 2, 0, 2, 0, 0, 0, 0, 0, 2, 0, 0, 2, 2, 2, 3, 0, 2, 0, 0, 3, 0, 2, 0, 0, 3, 0, 2, 2, 0, 2, 2, 2, 0, 0, 2, 2, 0, 0, 0, 2, 0, 2, 2, 0, 2, 0, 2, 3, 0, 0, 2, 0, 0, 0, 0, 2, 0, 0, 0, 0, 0, 0, 2, 0, 3, 3, 3, 0, 0, 3, 3, 2, 2, 0, 0, 3, 3, 0, 2, 2, 2, 3, 0, 0, 0, 2, 2, 2, 0, 0, 0, 2, 3, 3, 0, 0, 3, 3, 0, 2, 2, 2, 3, 0, 0, 0, 0, 0, 3, 2, 0, 0, 0, 0, 0, 0, 3, 0, 2, 0, 3, 0, 0, 0, 0, 0, 2, 3, 2, 0, 0, 0, 0, 0, 2, 0, 3, 3, 0, 0, 0, 0, 0, 0, 2, 2, 3, 0, 0, 2, 2, 0, 3, 3, 0, 0, 0, 3, 0, 3, 3, 0, 0, 2, 0, 0, 3, 2, 0, 3, 0, 2, 2, 3, 0, 2, 3, 2, 0, 0, 0, 0, 0, 3, 0, 3, 0, 0, 3, 3, 0, 2, 0, 3, 0, 0, 0, 0, 2, 2, 0, 0, 0, 2, 0, 0, 0, 0, 2, 2, 3, 0, 0, 2, 0, 0, 3, 0, 0, 2, 3, 2, 0, 2, 0, 0, 3, 3, 2, 0, 0, 0, 3, 2, 0, 0, 3, 3, 3, 0, 2, 0, 0, 0, 0, 2, 2, 0, 3, 0, 3, 3, 3, 0, 2, 0, 0, 0, 3, 2, 2, 2, 2, 0, 0, 3, 0, 3, 0, 3, 3, 0, 0, 0, 0, 0, 2, 3, 2, 3, 0, 2, 0, 3, 0, 0, 2, 0, 0, 2, 3, 0, 0, 3, 2, 0, 3, 2, 0, 2, 0, 0, 0, 2, 0, 0, 0, 0, 3, 0, 0, 0, 0, 0, 2, 2, 0, 0, 2, 0, 2, 2, 0, 2, 0, 0, 2, 2, 0, 0, 2, 0, 0, 2, 0, 0, 0, 0, 3, 0, 2, 0, 0, 0, 0, 0, 0, 0, 3, 2, 3, 0, 0, 0, 0, 0, 3, 0, 2, 2, 2, 2, 0, 3, 0, 3, 0, 3, 0, 0, 0, 0, 2, 0, 2, 0, 3, 0, 0, 0, 0, 2, 0, 2, 0, 0, 0, 2, 0, 0, 0, 2, 2, 0, 3, 0, 2, 3, 0, 0, 2, 0, 2, 3, 3, 2, 2, 3, 0, 3, 0, 0, 0, 0, 0, 0, 0, 0, 0, 2, 0, 0, 0, 0, 0, 3, 0, 0, 3, 0, 3, 2, 3, 0, 2, 0, 2, 0, 2, 0, 2, 3, 0, 3, 0, 0, 0, 0, 0, 3, 3, 2, 0, 3, 0, 0, 0, 0, 0, 0, 3, 0, 3, 0, 0, 0, 0, 0, 0, 3, 0, 2, 0, 3, 3, 2, 0, 0, 0, 0, 3, 3, 3, 0, 2, 0, 2, 0, 0, 0, 0, 3, 2, 3, 3, 3, 0, 3, 3, 0, 0, 2, 2, 0, 0, 0, 0, 0, 0, 2, 0, 2, 0, 2, 0, 0, 2, 0, 3, 0, 0, 2, 0, 0, 0, 3, 0, 3, 2, 2, 2, 0, 0, 0, 2, 0, 2, 2, 0, 0, 0, 3, 0, 2, 0, 0, 0, 3, 0, 2, 0, 0, 0, 0, 3, 2, 0, 0, 0, 0, 3, 0, 3, 0, 0, 2, 0, 3, 0, 3, 2, 3, 2, 2, 0, 0, 0, 2, 3, 2, 0, 0, 0, 2, 0, 0, 3, 3, 2, 2, 0, 3, 0, 2, 2, 0, 2, 2, 2, 2, 0, 0, 0, 0, 0, 2, 3, 0, 0, 0, 0, 2, 2, 2, 0, 0, 0, 0, 0, 3, 0, 0, 3, 2, 2, 2, 0, 0, 0, 0, 0, 0, 3, 0, 2, 3, 0, 0, 0, 0, 0, 3, 0, 0, 0, 2, 0, 0, 0, 0, 2, 0, 0, 3, 2, 0, 0, 0, 0, 2, 2, 3, 2, 3, 3, 0, 2, 0, 0, 0, 3, 3, 3, 3, 0, 2, 3, 0, 2, 0, 0, 3, 2, 3, 2, 3, 0, 2, 0, 0, 0, 0, 0, 0, 0, 0, 0, 3, 0, 2, 2, 2, 0, 0, 0, 0, 3, 0, 2, 2, 3, 0, 2, 0, 0, 0, 3, 0, 0, 0, 0, 0, 0, 0, 0, 0, 2, 0, 0, 0, 2, 2, 0, 0, 0, 0, 2, 3, 2, 3, 2, 2, 0, 0, 3, 0, 2, 0, 3, 2, 3, 0, 0, 0, 2, 2, 2, 0, 0, 0, 3, 3, 2, 3, 2, 0, 0, 0, 0, 0, 0, 0, 3, 3, 3, 0, 2, 3, 0, 2, 2, 0, 2, 0, 2, 0, 0, 0, 2, 3, 2, 3, 2, 0, 2, 0, 2, 2, 2, 2, 2, 3, 3, 3, 0, 3, 0, 0, 2, 2, 2, 2, 0, 3, 3, 0, 3, 2, 0, 0, 0, 0, 2, 2, 2, 0, 0, 0, 3, 0, 3, 2, 0, 3, 3, 2, 2, 3, 0, 0, 2, 2, 3, 0, 2, 0, 0, 0, 0, 0, 3, 0, 2, 0, 0, 2, 2, 2, 3, 2, 0, 0, 0, 0, 0, 0, 0, 0, 3, 3, 2, 3, 2, 3, 3, 0, 3, 3, 0, 2, 3, 0, 2, 2, 3, 0, 0, 0, 0, 0, 2, 3, 0, 2, 3, 0, 0, 0, 0, 0, 2, 0, 0, 0, 2, 2, 2, 2, 0, 0, 2, 0, 0, 0, 0, 3, 0, 0, 3, 2, 2, 2, 0, 2, 2, 0, 0, 0, 0, 0, 2, 0, 2, 0, 0, 0, 0, 0, 0, 2, 2, 0, 2, 2, 3, 2, 0, 3, 3, 0, 0, 0, 0, 2, 0, 2, 0, 2, 2, 0, 2, 0, 0, 0, 0, 0, 0, 2, 0, 0, 0, 0, 2, 3, 3, 0, 0, 0, 2, 0, 0, 0, 0, 0, 2, 0, 0, 3, 0, 2, 0, 3, 0, 0, 2, 0, 3, 3, 0, 2, 2, 0, 2, 0, 0, 0, 0, 0, 0, 0, 2, 2, 2, 2, 2, 0, 3, 0, 2, 3, 0, 3, 0, 2, 0, 0, 0, 0, 2, 3, 0, 0, 0, 0, 3, 2, 2, 3, 3, 0, 0, 0, 0, 3, 0, 3, 0, 3, 3, 0, 3, 3, 2, 0, 2, 0, 0, 2, 0, 2, 0, 0, 0, 0, 2, 2, 3, 0, 0, 0, 0, 2, 0, 0, 2, 0, 2, 3, 2, 0, 3, 2, 0, 0, 3, 0, 0, 0, 0, 2, 0, 0, 0, 0, 0, 0, 3, 0, 2, 3, 0, 0, 2, 0, 2, 3, 2, 0, 3, 3, 0, 2, 2, 2, 0, 0, 3, 3, 3, 2, 0, 2, 0, 0, 2, 0, 0, 2, 2, 0, 2, 2, 0, 0, 0, 2, 3, 3, 0, 2, 2, 0, 3, 0, 3, 0, 0, 3, 3, 0, 0, 0, 3, 0, 0, 2, 0, 2, 2, 2, 0, 2, 3, 0, 3, 2, 2, 2, 3, 0, 2, 2, 3, 0, 2, 0, 0, 0, 0, 3, 0, 2, 0, 2, 2, 0, 0, 0, 0, 0, 3, 2, 0, 2, 0, 3, 2, 0, 0, 0, 0, 0, 0, 0, 0, 2, 0, 0, 0, 0, 0, 2, 3, 0, 2, 0, 0, 0, 2, 0, 2, 0, 0, 0, 3, 0, 3, 2, 0, 3, 0, 0, 0, 3, 3, 2, 0, 0, 2, 2, 2, 0, 0, 0, 2, 3, 3, 0, 0, 3, 2, 0, 0, 0, 2, 3, 0, 0, 3, 0, 0, 3, 0, 2, 2, 0, 0, 0, 0, 3, 2, 2, 2, 0, 3, 0, 2, 0, 0, 2, 2, 0, 2, 3, 3, 0, 0, 3, 0, 2, 0, 0, 0, 3, 2, 3, 0, 0, 2, 0, 0, 2, 0, 0, 3, 3, 0, 0, 0, 0, 0, 2, 0, 2, 2, 3, 0, 3, 3, 0, 0, 0, 0, 2, 0, 0, 3, 2, 2, 0, 0, 0, 3, 3, 0, 3, 3, 0, 0, 3, 0, 0, 0, 3, 0, 0, 0, 2, 0, 2, 3, 0, 0, 0, 0, 0, 2, 0, 3, 0, 2, 0, 0, 0, 0, 0, 2, 0, 0, 3, 2, 3, 0, 0, 3, 2, 0, 2, 3, 0, 3, 0, 2, 3, 2, 3, 3, 2, 0, 2, 0, 0, 0, 2, 0, 2, 2, 2, 0, 0, 0, 3, 0, 0, 0, 3, 2, 3, 2, 0, 2, 2, 0, 3, 0, 2, 0, 2, 0, 3, 0, 0, 3, 2, 0, 3, 2, 2, 2, 0, 2, 0, 0, 2, 3, 0, 2, 0, 0, 2, 2, 0, 2, 2, 0, 0, 0, 2, 2, 0, 3, 2, 2, 0, 0, 0, 0, 0, 0, 3, 0, 0, 0, 2, 0, 3, 0, 0, 2, 0, 0, 0, 3, 0, 3, 0, 0, 3, 0, 0, 2, 2, 0, 0, 0, 0, 3, 2, 0, 3, 0, 2, 0, 0, 0, 3, 0, 2, 2, 0, 0, 0, 0, 2, 2, 2, 0, 3, 2, 2, 0, 0, 0, 2, 3, 0, 2, 0, 3, 3, 0, 0, 0, 0, 3, 2, 3, 0, 3, 2, 0, 2, 3, 3, 0, 2, 0, 0, 0, 2, 2, 0, 2, 2, 3, 0, 2, 0, 2, 0, 3, 2, 2, 2, 2, 0, 0, 0, 3, 3, 0, 0, 0, 3, 3, 3, 0, 2, 2, 2, 2, 2, 3, 0, 0, 0, 2, 0, 0, 3, 0, 0, 2, 0, 0, 0, 3, 3, 3, 2, 0, 0, 3, 0, 0, 0, 0, 0, 3, 0, 0, 2, 2, 0, 0, 2, 0, 0, 0, 0, 0, 0, 2, 2, 3, 0, 0, 2, 3, 0, 2, 2, 0, 2, 2, 3, 0, 0, 2, 0, 0, 2, 2, 0, 3, 3, 3, 0, 0, 3, 0, 0, 2, 0, 2, 2, 0, 2, 3, 0, 3, 3, 0, 3, 2, 3, 3, 0, 0, 0, 0, 2, 2, 0, 3, 0, 0, 0, 0, 2, 2, 2, 2, 0, 0, 3, 0, 2, 0, 2, 2, 0, 0, 0, 3, 3, 0, 3, 3, 3, 0, 2, 0, 3, 0, 2, 2, 0, 0, 2, 0, 0, 3, 2, 0, 0, 0, 0, 0, 0, 2, 3, 3, 0, 2, 3, 0, 3, 0, 2, 0, 0, 0, 0, 2, 0, 0, 0, 0, 3, 0, 2, 0, 0, 2, 2, 0, 2, 0, 0, 2, 0, 0, 2, 3, 2, 0, 0, 0, 2, 0, 0, 0, 2, 0, 0, 0, 0, 0, 3, 0, 0, 0, 0, 0, 3, 2, 0, 3, 0, 0, 0, 0, 2, 0, 3, 0, 3, 3, 0, 0, 0, 2, 0, 2, 0, 0, 0, 2, 0, 2, 0, 0, 2, 2, 0, 2, 2, 3, 2, 3, 0, 2, 0, 0, 0, 0, 2, 2, 0, 2, 0, 0, 2, 0, 0, 0, 2, 0, 0, 2, 0, 0, 2, 2, 0, 0, 3, 2, 0, 2, 0, 2, 0, 3, 3, 2, 2, 3, 2, 0, 2, 2, 0, 0, 0, 2, 2, 0, 0, 0, 2, 2, 3, 3, 2, 0, 2, 0, 0, 2, 0, 0, 0, 0, 0, 3, 0, 2, 2, 0, 2, 3, 0, 0, 2, 0, 0, 2, 2, 2, 2, 0, 2, 0, 2, 2, 3, 0, 3, 3, 0, 0, 0, 0, 3, 0, 0, 0, 2, 3, 3, 0, 3, 0, 0, 3, 0, 0, 0, 0, 2, 0, 2, 0, 0, 0, 0, 3, 0, 2, 2, 3, 2, 0, 2, 0, 2, 0, 2, 2, 0, 3, 0, 2, 0, 2, 0, 2, 0, 0, 0, 0, 3, 0, 0, 2, 3, 0, 2, 3, 2, 2, 0, 0, 0, 0, 2, 0, 3, 2, 3, 0, 0, 0, 2, 2, 0, 0, 3, 2, 0, 3, 2, 0, 3, 2, 0, 2, 0, 0, 0, 2, 0, 3, 0, 2, 2, 0, 2, 0, 2, 2, 0, 2, 2, 0, 3, 2, 0, 0, 2, 0, 2, 0, 2, 2, 0, 0, 0, 3, 0, 0, 3, 0, 0, 0, 2, 0, 0, 3, 2, 0, 0, 2, 3, 0, 0, 2, 0, 0, 2, 0, 0, 0, 0, 0, 3, 3, 2, 2, 0, 3, 3, 2, 2, 0, 2, 2, 2, 0, 0, 2, 2, 0, 0, 3, 2, 2, 3, 0, 2, 3, 2, 0, 0, 2, 0, 2, 3, 0, 0, 3, 0, 0, 0, 0, 0, 0, 0, 0, 3, 2, 0, 0, 0, 0, 2, 2, 0, 0, 0, 3, 0, 2, 0, 0, 3, 0, 2, 2, 0, 3, 0, 3, 0, 0, 3, 3, 3, 3, 0, 0, 0, 3, 2, 0, 2, 0, 0, 3, 0, 3, 2, 0, 0, 0, 2, 0, 0, 2, 0, 0, 2, 2, 2, 2, 0, 0, 3, 0, 2, 0, 3, 2, 2, 0, 2, 0, 0, 0, 3, 2, 0, 0, 2, 3, 0, 2, 3, 2, 0, 0, 3, 2, 0, 0, 2, 2, 2, 2, 3, 3, 0, 2, 0, 0, 0, 0, 0, 3, 0, 2, 3, 0, 3, 0, 0, 2, 2, 0, 0, 2, 0, 2, 2, 3, 0, 2, 3, 0, 0, 2, 0, 3, 0, 2, 0, 0, 2, 2, 3, 0, 2, 3, 3, 0, 0, 0, 3, 0, 0, 2, 3, 0, 0, 0, 3, 0, 2, 0, 2, 0, 0, 2, 0, 0, 0, 2, 2, 0, 0, 0, 0, 3, 0, 0, 0, 0, 2, 0, 2, 3, 3, 2, 0, 0, 0, 3, 3, 3, 0, 0, 2, 3, 0, 0, 2, 0, 2, 0, 2, 2, 2, 2, 0, 3, 0, 0, 0, 2, 0, 0, 3, 3, 2, 0, 0, 3, 2, 0, 0, 2, 2, 0, 0, 0, 0, 2, 0, 0, 0, 3, 0, 0, 0, 0, 0, 0, 2, 0, 0, 2, 0, 2, 2, 0, 2, 0, 0, 0, 0, 2, 0, 2, 0, 2, 2, 2, 0, 0, 2, 3, 0, 2, 0, 3, 0, 2, 0, 0, 3, 0, 3, 2, 3, 0, 2, 0, 0, 0, 0, 2, 2, 0, 0, 0, 2, 0, 0, 0, 2, 0, 2, 0, 3, 0, 0, 2, 2, 0, 3, 2, 0, 0, 0, 3, 2, 2, 0, 0, 2, 0, 2, 0, 0, 0, 0, 0, 0, 0, 0, 0, 0, 0, 0, 0, 3, 0, 2, 0, 0, 0, 0, 0, 3, 2, 0, 0, 3, 0, 0, 0, 0, 3, 3, 3, 3, 0, 3, 0, 2, 0, 0, 3, 0, 0, 2, 2, 0, 0, 0, 0, 2, 0, 2, 0, 0, 3, 3, 3, 2, 0, 0, 0, 0, 2, 0, 0, 2, 3, 0, 0, 0, 2, 2, 3, 2, 2, 3, 0, 3, 2, 2, 2, 2, 3, 3, 0, 2, 3, 0, 0, 2, 0, 3, 2, 0, 3, 2, 3, 3, 3, 2, 3, 3, 3, 2, 0, 2, 3, 3, 0, 0, 0, 0, 0, 0, 2, 0, 2, 0, 2, 3, 0, 0, 2, 3, 0, 0, 0, 0, 3, 0, 0, 0, 0, 0, 3, 0, 3, 3, 0, 0, 0, 0, 3, 0, 0, 2, 2, 3, 0, 2, 2, 2, 0, 2, 0, 2, 2, 0, 2, 0, 0, 0, 3, 3, 2, 3, 0, 2, 0, 2, 0, 2, 0, 0, 0, 2, 0, 3, 0, 0, 2, 2, 3, 0, 0, 3, 3, 0, 0, 3, 2, 0, 2, 3, 0, 0, 0, 0, 2, 0, 0, 3, 3, 0, 0, 3, 0, 2, 0, 0, 3, 3, 0, 0, 0, 2, 0, 0, 0, 0, 0, 3, 0, 3, 0, 3, 0, 0, 2, 2, 0, 0, 3, 2, 2, 0, 0, 0, 2, 0, 0, 2, 0, 0, 2, 0, 0, 0, 0, 0, 2, 0, 3, 0, 0, 2, 0, 2, 0, 0, 2, 0, 2, 2, 2, 2, 0, 0, 0, 0, 2, 3, 0, 0, 2, 0, 2, 2, 3, 3, 0, 2, 2, 2, 0, 0, 0, 2, 0, 0, 2, 2, 3, 0, 0, 0, 0, 3, 3, 2, 3, 0, 3, 2, 0, 2, 0, 0, 0, 3, 0, 0, 2, 0, 3, 0, 3, 0, 0, 0, 0, 0, 0, 3, 2, 0, 2, 0, 0, 0, 0, 3, 2, 3, 2, 0, 2, 0, 0, 0, 0, 2, 0, 0, 0, 0, 0, 0, 0, 3, 0, 2, 2, 2, 2, 2, 0, 2, 0, 0, 0, 0, 2, 0, 3, 0, 2, 3, 0, 2, 2, 3, 0, 0, 2, 0, 0, 3, 0, 0, 0, 0, 0, 2, 2, 0, 0, 0, 0, 3, 0, 0, 0, 0, 0, 3, 2, 2, 0, 3, 0, 3, 2, 3, 3, 0, 0, 2, 3, 0, 3, 0, 0, 2, 0, 3, 0, 2, 0, 0, 2, 2, 2, 2, 0, 3, 3, 2, 3, 0, 0, 3, 2, 2, 3, 3, 2, 0, 3, 3, 0, 0, 0, 0, 2, 3, 2, 0, 0, 0, 3, 0, 0, 0, 3, 0, 3, 2, 2, 0, 2, 2, 3, 3, 0, 0, 2, 2, 3, 0, 0, 0, 2, 0, 0, 0, 0, 0, 0, 0, 3, 2, 0, 3, 3, 0, 0, 0, 0, 2, 0, 0, 0, 2, 2, 0, 0, 3, 2, 0, 0, 2, 3, 2, 0, 2, 2, 0, 0, 0, 0, 3, 3, 2, 3, 0, 2, 0, 3, 3, 0, 0, 0, 2, 3, 2, 0, 0, 0, 2, 0, 0, 3, 0, 0, 3, 0, 3, 0, 0, 2, 2, 0, 3, 2, 3, 0, 2, 0, 2, 0, 0, 0, 3, 0, 0, 0, 2, 2, 2, 3, 0, 3, 0, 3, 2, 3, 0, 0, 2, 0, 0, 3, 0, 3, 2, 0, 2, 2, 0, 2, 2, 3, 3, 0, 2, 0, 0, 0, 0, 3, 0, 2, 3, 3, 0, 3, 0, 0, 3, 2, 0, 2, 2, 0, 3, 2, 0, 2, 3, 3, 0, 0, 2, 2, 0, 3, 3, 2, 0, 2, 0, 3, 0, 0, 3, 2, 3, 0, 0, 0, 3, 0, 2, 2, 0, 0, 0, 2, 0, 2, 2, 0, 0, 3, 0, 0, 3, 0, 0, 0, 0, 3, 0, 0, 0, 3, 2, 0, 0, 3, 0, 0, 3, 0, 0, 0, 0, 2, 2, 3, 0, 2, 0, 2, 0, 0, 3, 2, 2, 2, 2, 2, 2, 2, 0, 2, 0, 0, 0, 3, 2, 0, 0, 0, 0, 3, 2, 0, 0, 0, 0, 0, 2, 3, 0, 2, 0, 2, 0, 0, 0, 3, 2, 2, 3, 0, 3, 0, 0, 0, 3, 0, 0, 2, 0, 0, 3, 2, 3, 2, 2, 0, 0, 2, 0, 0, 3, 0, 2, 0, 0, 3, 0, 2, 2, 2, 0, 0, 2, 0, 0, 2, 0, 0, 0, 0, 3, 2, 0, 0, 0, 0, 2, 0, 0, 3, 0, 2, 0, 2, 0, 0, 2, 2, 0, 3, 2, 3, 2, 2, 0, 0, 0, 0, 0, 3, 3, 0, 0, 0, 0, 0, 0, 0, 2, 0, 3, 2, 0, 0, 0, 0, 3, 0, 0, 3, 0, 2, 0, 2, 3, 0, 0, 0, 0, 2, 0, 2, 0, 0, 3, 0, 3, 2, 0, 0, 3, 0, 0, 0, 3, 0, 0, 0, 0, 2, 3, 0, 0, 0, 2, 2, 2, 0, 2, 3, 2, 2, 2, 2, 3, 0, 3, 0, 0, 0, 2, 3, 0, 0, 0, 0, 0, 2, 0, 3, 3, 0, 2, 0, 0, 0, 0, 0, 0, 2, 0, 2, 2, 3, 0, 0, 0, 2, 3, 0, 2, 0, 0, 3, 3, 0, 0, 2, 2, 0, 3, 0, 0, 2, 3, 2, 0, 3, 0, 0, 3, 2, 0, 0, 0, 2, 0, 2, 3, 0, 2, 0, 0, 2, 0, 3, 2, 0, 0, 2, 0, 2, 2, 2, 0, 2, 3, 0, 0, 0, 0, 2, 0, 0, 0, 0, 3, 2, 0, 0, 2, 0, 2, 2, 3, 0, 2, 0, 3, 3, 2, 3, 3, 2, 2, 0, 0, 2, 0, 0, 3, 0, 2, 0, 0, 0, 2, 2, 0, 0, 0, 0, 3, 0, 2, 2, 2, 0, 0, 3, 0, 2, 0, 2, 3, 0, 0, 0, 2, 0, 0, 0, 0, 3, 0, 2, 3, 3, 0, 2, 2, 2, 0, 2, 3, 0, 0, 0, 2, 2, 3, 0, 0, 0, 0, 0, 2, 0, 2, 0, 0, 0, 0, 0, 0, 3, 0, 0, 0, 2, 2, 0, 3, 2, 3, 3, 0, 0, 0, 2, 0, 0, 2, 0, 0, 3, 0, 3, 0, 3, 2, 0, 0, 0, 2, 2, 3, 3, 3, 0, 0, 0, 3, 2, 0, 3, 0, 3, 2, 2, 0, 0, 3, 0, 2, 2, 0, 2, 3, 3, 0, 2, 2, 3, 3, 3, 0, 0, 2, 0, 0, 0, 2, 0, 0, 0, 2, 0, 2, 0, 2, 0, 2, 3, 2, 0, 0, 0, 3, 2, 2, 3, 0, 3, 2, 3, 2, 2, 0, 0, 2, 2, 0, 0, 0, 2, 0, 3, 0, 0, 0, 0, 0, 0, 0, 0, 3, 0, 3, 0, 0, 2, 0, 2, 0, 0, 0, 2, 2, 3, 0, 0, 2, 2, 0, 0, 2, 3, 0, 3, 0, 0, 0, 0, 2, 0, 2, 2, 2, 2, 2, 0, 3, 2, 0, 2, 0, 0, 0, 0, 0, 2, 2, 0, 0, 3, 3, 0, 0, 0, 3, 3, 0, 0, 3, 2, 0, 0, 3, 0, 0, 2, 3, 2, 0, 2, 0, 2, 0, 3, 0, 2, 0, 0, 0, 0, 2, 3, 0, 2, 2, 2, 2, 0, 3, 2, 0, 0, 2, 0, 0, 2, 2, 3, 0, 3, 2, 0, 0, 0, 3, 3, 0, 0, 0, 3, 0, 3, 0, 2, 0, 3, 3, 0, 2, 0, 3, 2, 0, 0, 0, 2, 0, 3, 0, 2, 0, 2, 0, 0, 2, 0, 2, 0, 2, 2, 0, 0, 2, 0, 2, 3, 2, 0, 0, 0, 3, 0, 0, 2, 2, 0, 3, 0, 2, 0, 2, 3, 0, 2, 0, 0, 2, 0, 0, 0, 0, 0, 2, 0, 2, 0, 2, 0, 0, 0, 3, 0, 2, 0, 0, 0, 3, 0, 2, 0, 0, 0, 2, 0, 0, 2, 2, 0, 3, 2, 3, 0, 2, 3, 0, 0, 2, 2, 0, 0, 2, 0, 3, 0, 0, 0, 2, 0, 2, 0, 3, 0, 0, 0, 0, 2, 0, 0, 0, 0, 0, 2, 0, 2, 0, 0, 0, 0, 0, 0, 2, 2, 0, 0, 0, 0, 0, 0, 0, 0, 0, 3, 0, 0, 2, 0, 0, 0, 2, 3, 2, 3, 0, 0, 3, 0, 0, 0, 0, 2, 2, 2, 0, 0, 2, 2, 3, 0, 0, 0, 0, 3, 0, 2, 0, 0, 0, 2, 0, 2, 0, 2, 0, 0, 2, 0, 2, 2, 2, 2, 0, 3, 0, 0, 0, 3, 3, 0, 2, 0, 0, 3, 2, 0, 0, 3, 2, 0, 0, 3, 0, 0, 0, 0, 2, 2, 0, 0, 2, 0, 2, 0, 3, 3, 2, 2, 2, 0, 2, 0, 0, 2, 2, 2, 0, 2, 3, 0, 0, 3, 2, 2, 2, 3, 0, 2, 3, 2, 0, 0, 0, 2, 0, 0, 0, 0, 2, 0, 0, 2, 3, 0, 0, 0, 0, 2, 0, 0, 0, 0, 0, 0, 2, 3, 3, 0, 3, 2, 2, 0, 0, 0, 2, 0, 3, 0, 0, 0, 2, 2, 2, 0, 0, 3, 0, 0, 2, 3, 2, 0, 2, 0, 0, 0, 0, 2, 2, 3, 0, 0, 2, 0, 0, 2, 0, 0, 2, 2, 0, 0, 0, 0, 3, 2, 2, 0, 0, 3, 2, 0, 0, 0, 3, 2, 0, 0, 0, 2, 2, 3, 0, 0, 3, 2, 3, 0, 0, 3, 2, 0, 0, 2, 0, 3, 0, 3, 3, 0, 0, 0, 0, 3, 0, 0, 2, 2, 2, 0, 2, 0, 0, 0, 2, 0, 2, 0, 0, 2, 0, 2, 2, 2, 3, 0, 0, 0, 0, 2, 2, 0, 0, 2, 0, 3, 0, 0, 0, 2, 0, 2, 3, 2, 3, 0, 2, 2, 3, 2, 2, 0, 2, 0, 0, 0, 2, 3, 2, 2, 2, 0, 3, 2, 3, 2, 0, 3, 0, 2, 0, 0, 0, 3, 3, 2, 0, 0, 3, 0, 0, 0, 0, 0, 2, 0, 0, 0, 3, 0, 2, 0, 3, 0, 0, 0, 0, 0, 0, 2, 2, 2, 2, 3, 0, 2, 0, 0, 0, 0, 0, 2, 0, 0, 3, 2, 0, 0, 0, 2, 3, 0, 0, 0, 0, 2, 0, 0, 0, 0, 0, 0, 3, 0, 0, 3, 2, 2, 2, 0, 2, 0, 0, 2, 3, 0, 0, 0, 3, 0, 3, 0, 0, 3, 3, 0, 0, 2, 0, 0, 2, 2, 0, 3, 3, 2, 2, 0, 0, 2, 0, 0, 2, 0, 0, 0, 0, 2, 0, 0, 3, 2, 0, 0, 2, 0, 3, 0, 2, 0, 0, 2, 2, 2, 2, 2, 3, 2, 0, 0, 0, 0, 0, 0, 0, 0, 3, 3, 2, 0, 0, 0, 0, 2, 0, 0, 0, 0, 0, 2, 3, 0, 0, 0, 2, 3, 0, 0, 0, 3, 2, 0, 3, 2, 2, 0, 0, 0, 2, 2, 3, 0, 2, 0, 3, 0, 0, 2, 0, 2, 3, 0, 2, 0, 2, 0, 3, 0, 0, 0, 3, 3, 3, 0, 0, 2, 3, 0, 2, 0, 2, 3, 2, 0, 0, 2, 0, 2, 0, 3, 0, 3, 0, 2, 0, 0, 0, 0, 0, 0, 0, 3, 3, 3, 0, 0, 3, 0, 2, 0, 3, 3, 3, 3, 0, 0, 2, 2, 0, 0, 2, 3, 3, 2, 0, 0, 0, 0, 2, 2, 3, 0, 2, 2, 2, 0, 0, 2, 3, 3, 3, 0, 0, 3, 0, 0, 2, 0, 2, 0, 2, 0, 0, 3, 2, 3, 0, 3, 2, 2, 0, 0, 2, 3, 0, 2, 3, 2, 0, 2, 3, 0, 2, 0, 2, 0, 0, 2, 0, 3, 0, 0, 0, 0, 0, 2, 3, 3, 2, 0, 3, 2, 0, 2, 3, 3, 0, 0, 3, 3, 0, 0, 3, 3, 0, 0, 0, 2, 0, 2, 0, 3, 2, 0, 0, 2, 0, 0, 0, 0, 2, 0, 2, 2, 2, 0, 2, 2, 0, 0, 0, 0, 3, 0, 3, 0, 0, 3, 0, 0, 2, 0, 0, 3, 0, 0, 2, 0, 0, 0, 0, 0, 0, 0, 3, 0, 0, 0, 0, 0, 3, 0, 2, 0, 2, 0, 0, 0, 0, 0, 2, 0, 0, 0, 2, 2, 0, 3, 3, 0, 0, 0, 0, 0, 0, 0, 2, 0, 0, 0, 3, 3, 0, 2, 2, 0, 3, 0, 2, 0, 0, 2, 0, 2, 0, 0, 3, 0, 0, 3, 0, 2, 0, 2, 2, 0, 0, 0, 2, 2, 2, 3, 2, 0, 0, 0, 0, 0, 0, 2, 0, 3, 0, 0, 2, 2, 0, 2, 2, 3, 0, 0, 0, 2, 0, 0, 3, 0, 2, 0, 2, 3, 2, 0, 2, 0, 2, 3, 0, 0, 2, 0, 3, 0, 3, 0, 2, 0, 0, 3, 0, 3, 0, 3, 0, 2, 0, 2, 0, 0, 0, 0, 0, 0, 0, 2, 2, 0, 3, 2, 0, 0, 0, 0, 0, 0, 0, 0, 0, 0, 3, 3, 2, 0, 3, 2, 0, 2, 0, 3, 2, 2, 0, 0, 0, 2, 0, 2, 3, 2, 3, 0, 0, 0, 2, 0, 3, 3, 0, 2, 2, 0, 0, 0, 0, 2, 2, 2, 0, 0, 0, 0, 2, 0, 0, 3, 0, 3, 2, 3, 0, 0, 2, 0, 2, 0, 2, 0, 0, 3, 3, 2, 0, 2, 3, 3, 2, 3, 2, 0, 0, 0, 2, 0, 0, 0, 2, 0, 3, 3, 0, 2, 2, 0, 0, 2, 0, 0, 3, 0, 2, 0, 0, 0, 0, 3, 2, 3, 2, 3, 0, 0, 0, 0, 3, 2, 0, 0, 3, 0, 2, 0, 0, 3, 0, 0, 0, 3, 0, 2, 3, 0, 0, 0, 0, 0, 2, 0, 3, 0, 3, 2, 0, 2, 0, 0, 2, 0, 3, 0, 3, 2, 2, 0, 0, 0, 0, 0, 0, 0, 3, 2, 0, 0, 2, 0, 3, 0, 2, 2, 0, 2, 2, 3, 0, 0, 0, 0, 0, 3, 0, 0, 3, 2, 0, 2, 3, 3, 0, 3, 0, 0, 3, 3, 0, 2, 3, 0, 0, 0, 2, 0, 0, 0, 0, 0, 0, 3, 0, 0, 2, 0, 0, 0, 0, 0, 0, 0, 3, 3, 0, 2, 3, 2, 0, 0, 0, 0, 0, 3, 0, 2, 2, 0, 0, 0, 0, 3, 0, 0, 0, 0, 0, 0, 2, 2, 0, 2, 2, 0, 0, 0, 0, 2, 0, 0, 0, 2, 3, 0, 3, 2, 0, 0, 3, 2, 2, 0, 3, 0, 2, 0, 0, 3, 0, 0, 0, 0, 0, 0, 0, 3, 2, 3, 2, 0, 3, 2, 3, 0, 3, 3, 0, 2, 3, 0, 0, 2, 0, 0, 2, 0, 2, 2, 2, 0, 0, 0, 3, 2, 2, 0, 0, 0, 0, 0, 3, 0, 0, 2, 3, 0, 2, 0, 0, 0, 2, 2, 0, 2, 0, 0, 0, 2, 2, 2, 0, 3, 3, 2, 2, 0, 2, 0, 0, 3, 2, 2, 2, 0, 0, 3, 3, 3, 0, 0, 2, 2, 2, 2, 0, 3, 0, 0, 2, 2, 3, 2, 0, 2, 0, 2, 0, 3, 3, 0, 0, 0, 3, 0, 0, 0, 2, 0, 3, 2, 3, 3, 3, 2, 0, 0, 0, 0, 2, 0, 0, 3, 0, 2, 0, 3, 3, 0, 3, 0, 0, 0, 0, 0, 3, 2, 0, 0, 2, 0, 0, 0, 0, 2, 0, 3, 2, 2, 0, 0, 0, 3, 0, 0, 0, 0, 2, 0, 0, 0, 0, 0, 3, 0, 2, 0, 2, 0, 2, 3, 0, 0, 3, 0, 2, 0, 3, 2, 0, 2, 2, 0, 0, 2, 3, 0, 2, 0, 2, 0, 2, 0, 0, 3, 2, 2, 0, 2, 2, 0, 0, 0, 2, 2, 2, 3, 3, 3, 0, 3, 0, 2, 0, 0, 2, 0, 0, 2, 3, 0, 3, 2, 3, 0, 2, 3, 0, 0, 2, 3, 0, 2, 2, 0, 3, 3, 2, 0, 0, 2, 0, 3, 0, 0, 2, 0, 0, 2, 0, 3, 2, 3, 0, 0, 0, 2, 0, 0, 0, 0, 0, 3, 0, 0, 0, 0, 3, 2, 2, 0, 0, 0, 0, 0, 0, 0, 2, 0, 2, 0, 0, 3, 0, 3, 0, 0, 0, 0, 0, 0, 3, 0, 0, 0, 0, 2, 3, 0, 0, 2, 3, 2, 0, 2, 0, 0, 3, 0, 2, 2, 3, 2, 0, 0, 0, 0, 0, 0, 2, 2, 0, 2, 3, 0, 0, 2, 0, 0, 0, 0, 0, 2, 0, 0, 0, 0, 0, 0, 2, 3, 2, 3, 2, 3, 0, 3, 2, 0, 0, 0, 0, 0, 2, 0, 0, 2, 0, 3, 0, 0, 2, 0, 0, 2, 0, 0, 0, 0, 2, 0, 0, 0, 3, 0, 2, 0, 0, 2, 0, 2, 2, 0, 0, 0, 0, 2, 0, 0, 2, 0, 2, 2, 2, 0, 0, 2, 0, 2, 0, 2, 3, 0, 0, 0, 3, 2, 2, 2, 2, 2, 0, 0, 0, 2, 2, 2, 2, 0, 0, 3, 3, 0, 0, 2, 2, 0, 2, 2, 2, 0, 0, 0, 0, 0, 0, 3, 0, 2, 0, 0, 0, 0, 0, 0, 0, 0, 3, 2, 2, 0, 0, 0, 3, 0, 0, 0, 0, 0, 0, 0, 2, 0, 0, 3, 0, 0, 0, 0, 0, 3, 0, 2, 0, 0, 2, 0, 3, 0, 2, 0, 0, 0, 2, 2, 0, 3, 0, 0, 0, 0, 0, 3, 0, 0, 3, 0, 2, 2, 3, 0, 0, 0, 2, 0, 3, 0, 0, 2, 2, 2, 0, 3, 2, 3, 2, 0, 0, 2, 0, 2, 0, 0, 2, 3, 0, 0, 2, 0, 2, 0, 0, 2, 3, 0, 3, 0, 0, 2, 3, 0, 0, 0, 0, 0, 0, 3, 3, 0, 0, 2, 0, 0, 3, 2, 2, 0, 3, 3, 0, 3, 3, 2, 0, 2, 3, 0, 2, 3, 0, 2, 2, 3, 2, 0, 2, 0, 0, 0, 0, 0, 0, 0, 2, 0, 3, 2, 0, 2, 2, 2, 3, 2, 0, 2, 2, 0, 0, 3, 3, 3, 2, 0, 3, 0, 0, 0, 0, 0, 0, 0, 0, 0, 0, 2, 2, 0, 2, 3, 3, 2, 3, 2, 3, 0, 0, 0, 0, 3, 3, 0, 0, 3, 2, 2, 2, 0, 2, 0, 2, 0, 3, 2, 0, 2, 0, 3, 0, 0, 3, 3, 2, 0, 2, 0, 0, 2, 0, 0, 0, 0, 2, 0, 0, 0, 0, 0, 3, 0, 0, 3, 0, 3, 0, 0, 3, 3, 0, 0, 0, 0, 3, 0, 3, 0, 0, 0, 3, 0, 0, 3, 0, 0, 3, 0, 0, 3, 2, 2, 0, 2, 0, 0, 0, 2, 0, 3, 0, 2, 0, 2, 0, 0, 0, 3, 0, 3, 0, 3, 0, 0, 0, 0, 0, 0, 3, 3, 3, 0, 0, 2, 0, 3, 0, 3, 0, 3, 2, 2, 2, 2, 0, 2, 0, 3, 0, 2, 2, 2, 0, 2, 0, 0, 0, 0, 0, 2, 0, 0, 0, 3, 2, 0, 3, 0, 0, 0, 0, 0, 2, 0, 0, 0, 3, 2, 2, 0, 2, 2, 0, 3, 2, 0, 0, 2, 2, 2, 2, 0, 0, 2, 0, 0, 0, 0, 0, 3, 3, 0, 2, 2, 0, 0, 0, 0, 0, 2, 3, 0, 0, 0, 2, 0, 2, 0, 0, 2, 0, 2, 0, 0, 2, 0, 0, 0, 2, 0, 2, 0, 0, 2, 3, 3, 2, 0, 0, 0, 0, 0, 0, 3, 3, 0, 0, 0, 3, 2, 0, 3, 0, 3, 2, 3, 0, 0, 2, 2, 0, 0, 3, 0, 0, 2, 3, 2, 3, 3, 0, 0, 2, 0, 0, 0, 0, 2, 2, 0, 3, 2, 0, 0, 0, 3, 0, 3, 0, 2, 0, 0, 0, 0, 0, 2, 2, 2, 0, 2, 0, 0, 0, 0, 2, 2, 3, 0, 0, 2, 0, 0, 2, 0, 0, 3, 0, 0, 2, 3, 2, 0, 2, 3, 0, 2, 0, 0, 2, 3, 2, 2, 0, 0, 0, 0, 0, 0, 0, 3, 0, 0, 0, 3, 3, 2, 0, 0, 3, 0, 2, 0, 2, 3, 2, 0, 2, 0, 0, 3, 0, 3, 0, 3, 0, 3, 2, 0, 3, 0, 0, 2, 0, 0, 0, 0, 2, 0, 0, 2, 0, 0, 0, 3, 3, 0, 3, 0, 0, 0, 0, 0, 0, 0, 0, 0, 2, 3, 0, 3, 0, 0, 0, 0, 2, 3, 0, 0, 0, 0, 0, 2, 0, 2, 2, 2, 2, 0, 2, 2, 2, 3, 0, 2, 3, 3, 0, 0, 3, 0, 3, 0, 0, 3, 0, 0, 2, 0, 2, 0, 0, 0, 2, 0, 0, 0, 0, 0, 0, 0, 0, 0, 2, 3, 0, 2, 0, 2, 0, 2, 3, 0, 2, 0, 3, 0, 0, 2, 2, 0, 0, 0, 0, 3, 3, 0, 2, 2, 0, 3, 0, 0, 0, 0, 2, 0, 0, 2, 2, 0, 0, 0, 0, 3, 0, 2, 2, 0, 0, 0, 2, 2, 0, 0, 0, 0, 0, 0, 2, 2, 0, 2, 2, 0, 0, 0, 2, 2, 3, 2, 0, 0, 0, 0, 0, 0, 0, 0, 2, 0, 3, 2, 0, 2, 2, 0, 0, 0, 3, 0, 0, 0, 3, 0, 0, 3, 0, 0, 0, 0, 0, 3, 0, 0, 0, 0, 2, 2, 3, 2, 0, 2, 3, 0, 0, 3, 0, 0, 3, 0, 0, 0, 0, 2, 2, 0, 2, 3, 3, 0, 0, 0, 2, 2, 3, 3, 0, 3, 2, 2, 0, 0, 2, 3, 0, 3, 2, 2, 3, 2, 2, 0, 3, 0, 2, 0, 0, 0, 0, 3, 2, 0, 2, 2, 3, 0, 0, 0, 3, 2, 0, 0, 2, 0, 3, 2, 3, 2, 0, 2, 3, 0, 0, 0, 2, 3, 2, 0, 0, 2, 0, 0, 0, 0, 0, 0, 0, 0, 0, 2, 0, 0, 3, 2, 3, 0, 0, 0, 0, 0, 2, 3, 0, 0, 0, 0, 2, 3, 3, 2, 0, 0, 0, 0, 0, 0, 0, 0, 0, 0, 0, 0, 2, 2, 0, 3, 0, 0, 3, 3, 0, 2, 0, 0, 0, 2, 0, 2, 0, 2, 3, 2, 0, 2, 0, 3, 2, 2, 3, 3, 0, 0, 0, 2, 2, 0, 2, 2, 0, 0, 3, 3, 2, 2, 3, 0, 0, 0, 3, 0, 3, 0, 0, 0, 2, 0, 0, 2, 2, 0, 2, 2, 0, 3, 0, 3, 3, 3, 0, 0, 0, 2, 0, 3, 0, 2, 2, 0, 0, 0, 3, 2, 0, 0, 3, 2, 0, 0, 0, 0, 0, 0, 0, 3, 0, 0, 2, 3, 0, 3, 2, 3, 0, 2, 2, 0, 0, 0, 2, 2, 0, 0, 0, 2, 0, 0, 3, 0, 0, 2, 2, 2, 0, 0, 0, 3, 0, 0, 2, 0, 3, 2, 2, 0, 0, 3, 0, 2, 0, 0, 3, 2, 2, 3, 0, 0, 0, 2, 0, 2, 0, 3, 0, 0, 2, 3, 2, 0, 0, 3, 2, 0, 3, 3, 0, 2, 0, 2, 3, 0, 0, 3, 0, 2, 2, 2, 0, 2, 0, 2, 0, 0, 2, 3, 2, 0, 0, 3, 0, 0, 0, 2, 3, 2, 2, 2, 0, 0, 2, 0, 2, 0, 0, 0, 0, 0, 0, 3, 3, 2, 3, 0, 2, 2, 0, 2, 2, 2, 2, 3, 0, 2, 2, 3, 0, 0, 0, 0, 0, 2, 0, 2, 2, 0, 2, 2, 2, 0, 3, 2, 2, 0, 0, 0, 2, 3, 0, 0, 0, 3, 0, 2, 2, 3, 0, 2, 2, 3, 3, 0, 2, 0, 2, 3, 0, 0, 2, 3, 0, 3, 2, 3, 0, 0, 0, 0, 0, 0, 0, 2, 3, 2, 0, 0, 0, 0, 2, 0, 0, 2, 2, 0, 0, 2, 3, 2, 3, 2, 3, 0, 3, 2, 0, 0, 0, 0, 0, 2, 0, 0, 0, 0, 2, 2, 2, 0, 3, 0, 3, 2, 0, 3, 2, 0, 0, 2, 2, 0, 2, 2, 0, 0, 0, 0, 3, 2, 0, 0, 0, 0, 0, 3, 3, 0, 0, 0, 3, 0, 0, 0, 2, 3, 0, 0, 0, 3, 0, 2, 3, 0, 2, 0, 0, 2, 0, 3, 0, 3, 3, 0, 2, 2, 2, 0, 0, 0, 2, 0, 2, 3, 2, 2, 0, 0, 0, 2, 2, 0, 3, 0, 0, 2, 3, 0, 0, 3, 0, 0, 3, 0, 0, 0, 3, 2, 2, 2, 0, 0, 0, 3, 0, 0, 2, 2, 0, 2, 2, 3, 2, 0, 0, 0, 0, 0, 0, 0, 0, 2, 2, 2, 0, 3, 0, 2, 2, 3, 3, 0, 0, 0, 0, 2, 2, 0, 0, 0, 2, 2, 3, 0, 0, 0, 0, 2, 2, 2, 0, 3, 3, 0, 0, 0, 3, 3, 0, 0, 0, 0, 0, 2, 3, 2, 3, 2, 3, 2, 2, 2, 0, 3, 0, 2, 3, 2, 0, 0, 2, 0, 2, 3, 3, 3, 0, 2, 3, 2, 0, 0, 0, 2, 0, 0, 0, 0, 0, 2, 0, 2, 0, 2, 0, 0, 3, 2, 0, 3, 3, 0, 3, 2, 3, 0, 2, 0, 3, 2, 0, 0, 0, 0, 2, 2, 2, 2, 3, 0, 0, 3, 3, 2, 0, 3, 3, 3, 2, 3, 0, 2, 2, 0, 0, 3, 0, 2, 2, 0, 0, 3, 0, 2, 2, 0, 0, 0, 2, 0, 0, 2, 2, 3, 0, 0, 3, 2, 0, 0, 3, 0, 2, 0, 0, 2, 0, 0, 3, 0, 0, 0, 2, 0, 2, 0, 2, 0, 0, 0, 3, 2, 0, 0, 0, 0, 0, 3, 0, 0, 3, 3, 3, 0, 3, 0, 3, 3, 2, 3, 2, 0, 2, 0, 3, 3, 3, 0, 0, 2, 0, 2, 0, 2, 0, 2, 3, 0, 3, 2, 0, 0, 2, 0, 0, 2, 0, 0, 0, 2, 0, 3, 0, 0, 0, 2, 0, 3, 0, 0, 2, 0, 3, 2, 2, 0, 0, 2, 2, 2, 3, 2, 0, 0, 0, 0, 0, 0, 2, 0, 0, 0, 0, 3, 0, 0, 0, 0, 2, 2, 0, 0, 2, 0, 0, 2, 2, 3, 0, 3, 0, 0, 0, 2, 0, 0, 3, 3, 0, 0, 0, 0, 3, 3, 0, 2, 2, 3, 2, 3, 3, 0, 0, 2, 3, 0, 3, 0, 0, 0, 3, 2, 0, 2, 2, 0, 3, 0, 2, 3, 2, 0, 2, 3, 3, 0, 0, 0, 3, 3, 0, 0, 0, 0, 2, 0, 3, 2, 3, 0, 2, 0, 0, 3, 0, 0, 2, 0, 0, 0, 0, 2, 2, 0, 0, 0, 0, 3, 3, 2, 2, 2, 0, 2, 2, 0, 0, 3, 2, 0, 0, 0, 0, 0, 3, 0, 2, 0, 0, 0, 3, 0, 2, 0, 0, 2, 0, 0, 0, 0, 0, 2, 0, 0, 0, 0, 0, 0, 2, 0, 2, 0, 0, 0, 2, 3, 0, 0, 0, 3, 0, 3, 2, 3, 0, 0, 2, 0, 2, 3, 0, 2, 0, 3, 0, 0, 0, 0, 3, 3, 0, 0, 3, 0, 0, 0, 0, 2, 0, 2, 3, 2, 0, 0, 3, 0, 0, 0, 3, 0, 0, 0, 2, 0, 0, 0, 0, 0, 0, 0, 2, 0, 2, 0, 0, 2, 2, 0, 0, 0, 0, 2, 0, 0, 3, 2, 0, 3, 0, 3, 2, 0, 2, 0, 2, 3, 0, 0, 0, 2, 2, 3, 0, 3, 0, 0, 0, 0, 0, 0, 0, 0, 0, 2, 2, 0, 0, 2, 2, 0, 2, 0, 0, 0, 0, 0, 2, 0, 0, 0, 2, 2, 0, 0, 0, 2, 0, 2, 3, 3, 3, 2, 0, 0, 0, 2, 0, 2, 0, 0, 2, 0, 0, 2, 2, 2, 3, 0, 3, 0, 0, 0, 0, 2, 2, 2, 2, 0, 0, 0, 0, 2, 2, 0, 0, 0, 3, 2, 2, 0, 3, 0, 2, 0, 0, 2, 0, 0, 0, 2, 3, 2, 0, 0, 2, 2, 0, 0, 0, 2, 0, 0, 0, 0, 0, 3, 2, 0, 2, 3, 0, 3, 0, 0, 0, 2, 0, 2, 2, 0, 3, 0, 2, 0, 2, 0, 3, 0, 0, 0, 3, 2, 2, 0, 3, 0, 0, 3, 3, 3, 0, 0, 3, 0, 0, 0, 2, 2, 0, 0, 0, 0, 0, 2, 0, 0, 0, 0, 2, 0, 2, 0, 3, 0, 0, 2, 0, 0, 0, 0, 0, 0, 0, 2, 2, 0, 0, 0, 2, 0, 2, 0, 2, 0, 2, 0, 0, 2, 0, 0, 3, 0, 2, 0, 0, 0, 2, 0, 3, 0, 2, 3, 0, 2, 3, 0, 0, 0, 0, 0, 2, 3, 0, 2, 2, 0, 2, 2, 0, 2, 0, 0, 0, 0, 0, 0, 3, 2, 0, 0, 0, 0, 0, 0, 2, 0, 2, 3, 2, 2, 2, 3, 0, 0, 3, 2, 3, 0, 0, 0, 2, 2, 2, 3, 2, 0, 0, 0, 2, 0, 0, 0, 0, 3, 0, 3, 0, 0, 0, 0, 0, 2, 3, 3, 2, 0, 3, 0, 2, 3, 0, 0, 0, 2, 0, 0, 0, 2, 3, 2, 2, 3, 0, 2, 0, 3, 3, 0, 3, 0, 3, 0, 0, 3, 0, 3, 0, 0, 0, 2, 0, 0, 2, 0, 0, 3, 2, 2, 0, 0, 2, 0, 0, 0, 0, 2, 3, 2, 0, 2, 2, 0, 0, 3, 2, 2, 0, 2, 0, 3, 0, 0, 0, 0, 3, 2, 0, 3, 0, 0, 2, 0, 0, 2, 0, 2, 2, 2, 0, 2, 2, 2, 0, 2, 0, 2, 0, 0, 0, 0, 3, 0, 3, 0, 0, 0, 0, 3, 0, 0, 0, 2, 0, 0, 0, 2, 2, 2, 0, 0, 3, 0, 0, 0, 0, 0, 2, 0, 3, 0, 2, 0, 0, 2, 2, 0, 3, 0, 0, 0, 0, 0, 0, 2, 0, 2, 0, 0, 2, 0, 0, 2, 0, 2, 0, 0, 0, 0, 0, 3, 3, 0, 0, 0, 2, 2, 0, 0, 3, 2, 0, 0, 3, 0, 0, 0, 0, 2, 0, 0, 3, 0, 3, 3, 2, 0, 0, 3, 3, 0, 2, 2, 3, 2, 2, 2, 3, 3, 3, 0, 0, 0, 0, 3, 3, 0, 3, 0, 3, 2, 3, 0, 0, 2, 2, 3, 0, 0, 2, 2, 0, 0, 0, 3, 0, 0, 0, 2, 2, 2, 2, 3, 3, 0, 2, 0, 2, 0, 0, 3, 0, 2, 0, 0, 2, 0, 2, 2, 0, 0, 0, 2, 0, 0, 3, 2, 0, 3, 0, 0, 0, 0, 0, 0, 0, 2, 0, 2, 3, 0, 2, 0, 3, 0, 0, 0, 0, 0, 2, 0, 0, 3, 0, 0, 2, 0, 3, 0, 0, 3, 0, 3, 0, 2, 0, 0, 0, 0, 0, 0, 0, 3, 0, 2, 3, 3, 0, 0, 0, 0, 3, 2, 3, 0, 0, 0, 3, 0, 0, 2, 0, 2, 3, 0, 3, 0, 2, 2, 2, 2, 3, 3, 2, 0, 3, 0, 0, 0, 0, 2, 2, 3, 0, 0, 0, 0, 0, 2, 0, 0, 0, 0, 2, 0, 3, 2, 2, 0, 0, 2, 0, 0, 2, 0, 0, 0, 0, 0, 3, 2, 2, 2, 0, 0, 0, 2, 2, 0, 2, 0, 0, 2, 3, 2, 0, 2, 2, 0, 2, 0, 0, 0, 0, 0, 0, 0, 0, 0, 2, 2, 0, 3, 0, 2, 0, 3, 0, 3, 3, 0, 0, 3, 0, 2, 0, 2, 0, 2, 0, 0, 0, 3, 2, 0, 0, 3, 2, 2, 3, 2, 0, 3, 0, 0, 0, 2, 3, 0, 0, 0, 0, 3, 0, 2, 3, 0, 0, 3, 0, 0, 0, 0, 0, 0, 2, 0, 2, 0, 0, 0, 2, 0, 3, 0, 3, 0, 0, 0, 0, 3, 2, 0, 0, 0, 3, 0, 0, 3, 0, 2, 0, 3, 3, 0, 3, 2, 0, 0, 2, 3, 0, 0, 0, 2, 2, 3, 0, 0, 3, 0, 0, 2, 0, 2, 0, 3, 3, 2, 2, 2, 2, 0, 0, 0, 0, 0, 0, 0, 2, 2, 0, 2, 2, 3, 0, 0, 0, 0, 0, 0, 0, 0, 0, 0, 3, 0, 2, 0, 0, 0, 0, 3, 3, 0, 0, 0, 3, 0, 0, 0, 0, 0, 0, 0, 0, 2, 2, 0, 3, 0, 0, 2, 0, 3, 0, 0, 0, 2, 3, 0, 0, 2, 0, 2, 0, 0, 0, 0, 0, 2, 2, 3, 2, 3, 2, 0, 0, 0, 0, 2, 2, 0, 0, 0, 3, 2, 0, 0, 0, 0, 0, 0, 0, 0, 0, 2, 0, 2, 2, 0, 2, 2, 0, 2, 0, 3, 0, 2, 0, 2, 3, 0, 0, 0, 0, 0, 0, 3, 2, 0, 0, 0, 3, 3, 0, 3, 3, 2, 3, 3, 2, 2, 0, 3, 2, 3, 0, 0, 0, 3, 0, 3, 2, 0, 2, 3, 2, 0, 0, 0, 0, 2, 0, 0, 2, 2, 2, 2, 0, 0, 2, 2, 2, 2, 0, 3, 3, 2, 0, 0, 2, 3, 0, 0, 3, 0, 0, 0, 0, 0, 0, 0, 0, 0, 0, 2, 0, 2, 0, 2, 0, 0, 3, 0, 3, 2, 0, 0, 3, 0, 3, 2, 2, 0, 2, 2, 0, 2, 2, 0, 0, 0, 0, 0, 2, 2, 0, 2, 0, 3, 0, 0, 0, 0, 3, 0, 0, 2, 0, 0, 0, 3, 0, 3, 0, 2, 0, 0, 0, 2, 0, 0, 0, 3, 0, 0, 0, 0, 0, 0, 3, 0, 0, 0, 2, 0, 0, 2, 0, 0, 0, 3, 3, 0, 0, 0, 0, 0, 0, 0, 2, 0, 0, 0, 2, 0, 2, 2, 0, 0, 0, 3, 0, 3, 2, 0, 0, 0, 3, 2, 0, 2, 3, 0, 2, 0, 0, 0, 2, 0, 2, 0, 3, 2, 0, 0, 0, 0, 2, 0, 0, 3, 3, 0, 0, 0, 2, 2, 0, 2, 0, 0, 0, 3, 2, 2, 3, 2, 2, 0, 3, 0, 2, 0, 3, 0, 0, 2, 0, 2, 2, 0, 0, 0, 0, 2, 0, 0, 0, 2, 0, 2, 0, 0, 3, 0, 2, 3, 0, 3, 2, 2, 0, 2, 0, 2, 0, 0, 3, 0, 0, 3, 0, 0, 2, 3, 0, 0, 0, 2, 0, 0, 0, 0, 2, 2, 0, 0, 2, 3, 0, 0, 0, 0, 2, 0, 2, 0, 0, 3, 2, 0, 3, 0, 0, 3, 3, 0, 0, 2, 0, 2, 0, 2, 0, 2, 0, 2, 0, 2, 3, 0, 0, 0, 0, 2, 3, 2, 2, 0, 2, 0, 2, 0, 0, 2, 0, 0, 2, 2, 3, 0, 0, 2, 2, 0, 2, 0, 3, 2, 2, 0, 2, 0, 3, 0, 2, 3, 0, 2, 2, 0, 0, 0, 0, 0, 3, 2, 3, 0, 0, 0, 3, 2, 0, 3, 2, 0, 2, 2, 0, 2, 3, 0, 2, 2, 0, 0, 0, 0, 0, 0, 3, 3, 2, 2, 0, 0, 2, 0, 2, 0, 0, 2, 2, 2, 2, 2, 0, 2, 3, 3, 0, 0, 0, 2, 0, 0, 0, 3, 0, 0, 2, 3, 2, 0, 0, 2, 0, 0, 3, 0, 2, 0, 0, 3, 0, 3, 0, 0, 2, 2, 3, 0, 0, 2, 2, 0, 3, 2, 0, 2, 0, 0, 2, 2, 0, 3, 3, 2, 0, 0, 2, 3, 2, 0, 0, 0, 2, 0, 0, 3, 0, 0, 3, 0, 2, 3, 2, 2, 0, 3, 0, 3, 2, 3, 2, 0, 3, 0, 0, 2, 0, 2, 0, 0, 0, 0, 0, 0, 0, 0, 0, 2, 0, 0, 0, 0, 3, 2, 3, 2, 0, 0, 0, 3, 3, 3, 2, 0, 3, 0, 0, 0, 3, 0, 0, 3, 0, 0, 0, 2, 0, 0, 0, 2, 3, 2, 3, 0, 0, 0, 0, 0, 0, 3, 3, 0, 0, 0, 0, 0, 2, 0, 3, 0, 3, 0, 2, 2, 3, 3, 0, 3, 3, 2, 0, 0, 2, 0, 2, 3, 2, 0, 2, 0, 2, 0, 0, 2, 2, 2, 0, 2, 2, 3, 3, 2, 0, 0, 0, 3, 3, 0, 0, 3, 2, 0, 3, 0, 2, 0, 0, 0, 0, 2, 2, 0, 0, 2, 0, 0, 3, 0, 3, 0, 2, 2, 0, 0, 0, 0, 0, 0, 3, 0, 2, 3, 2, 3, 2, 2, 3, 2, 0, 3, 0, 2, 0, 0, 0, 2, 0, 3, 3, 0, 2, 2, 0, 0, 0, 2, 2, 2, 0, 0, 2, 0, 2, 2, 0, 0, 2, 2, 3, 3, 0, 0, 0, 0, 0, 0, 2, 2, 2, 2, 2, 2, 0, 2, 2, 3, 2, 2, 0, 2, 0, 0, 3, 2, 3, 3, 0, 2, 0, 0, 0, 0, 2, 0, 0, 2, 3, 0, 0, 0, 2, 2, 3, 3, 0, 0, 3, 0, 2, 3, 2, 0, 0, 0, 0, 0, 0, 2, 3, 0, 0, 2, 3, 0, 2, 3, 0, 2, 2, 0, 3, 3, 2, 0, 0, 0, 2, 3, 0, 2, 0, 0, 3, 2, 2, 2, 0, 2, 0, 0, 0, 0, 3, 0, 0, 0, 2, 2, 2, 0, 0, 0, 3, 0, 3, 0, 3, 0, 3, 2, 0, 2, 3, 2, 0, 0, 2, 0, 3, 0, 2, 3, 0, 0, 0, 0, 0, 0, 2, 2, 0, 2, 0, 0, 0, 0, 2, 0, 2, 3, 2, 2, 0, 3, 0, 0, 0, 0, 2, 0, 0, 0, 0, 0, 0, 2, 0, 2, 0, 0, 2, 0, 0, 0, 2, 2, 2, 0, 3, 0, 0, 0, 2, 0, 0, 0, 0, 2, 3, 3, 0, 0, 2, 2, 0, 0, 0, 0, 2, 0, 0, 0, 3, 3, 3, 0, 3, 2, 0, 0, 0, 2, 0, 2, 0, 2, 0, 2, 3, 0, 0, 0, 3, 0, 2, 3, 2, 2, 2, 0, 0, 2, 0, 0, 2, 0, 3, 2, 0, 0, 0, 0, 0, 3, 0, 0, 2, 2, 0, 2, 0, 2, 2, 2, 3, 3, 0, 0, 0, 0, 2, 0, 2, 2, 0, 0, 3, 0, 2, 2, 2, 0, 0, 0, 3, 2, 0, 2, 2, 3, 0, 3, 2, 0, 0, 2, 0, 0, 0, 2, 0, 2, 2, 0, 0, 3, 0, 3, 0, 2, 0, 3, 3, 2, 0, 3, 2, 3, 3, 3, 3, 3, 0, 0, 0, 0, 2, 0, 0, 0, 0, 0, 0, 2, 2, 0, 0, 0, 0, 0, 0, 3, 0, 0, 0, 0, 0, 3, 0, 2, 0, 0, 0, 2, 0, 0, 0, 2, 0, 3, 3, 2, 0, 0, 2, 0, 3, 0, 2, 0, 2, 0, 0, 3, 0, 0, 2, 3, 0, 3, 3, 2, 3, 0, 3, 0, 0, 0, 3, 0, 0, 3, 2, 0, 0, 0, 0, 0, 0, 0, 0, 3, 0, 0, 0, 0, 0, 0, 2, 2, 0, 2, 2, 2, 2, 0, 0, 0, 2, 2, 0, 0, 3, 0, 0, 0, 2, 0, 2, 0, 0, 3, 0, 0, 0, 2, 2, 2, 0, 0, 0, 0, 2, 3, 2, 0, 2, 0, 0, 0, 0, 0, 2, 3, 0, 3, 0, 0, 0, 2, 2, 0, 2, 0, 2, 0, 0, 0, 0, 0, 0, 0, 0, 0, 2, 3, 0, 0, 2, 0, 0, 0, 3, 0, 0, 2, 2, 3, 2, 0, 2, 0, 2, 3, 0, 2, 0, 2, 2, 0, 0, 3, 0, 0, 0, 0, 0, 0, 0, 0, 0, 2, 2, 0, 0, 0, 2, 0, 0, 0, 2, 0, 2, 2, 0, 0, 3, 0, 0, 0, 2, 2, 3, 3, 3, 3, 2, 3, 3, 2, 2, 3, 3, 0, 0, 0, 2, 0, 0, 0, 0, 3, 2, 2, 0, 3, 0, 0, 2, 2, 2, 0, 0, 0, 2, 0, 0, 0, 2, 2, 0, 0, 0, 3, 2, 2, 3, 0, 0, 2, 2, 0, 2, 0, 0, 2, 0, 0, 2, 0, 3, 2, 0, 2, 3, 3, 3, 0, 2, 2, 3, 2, 0, 0, 2, 2, 2, 0, 2, 3, 3, 0, 3, 0, 2, 3, 0, 2, 2, 2, 0, 0, 0, 0, 0, 3, 0, 0, 0, 2, 0, 3, 0, 0, 2, 2, 2, 0, 0, 0, 0, 3, 2, 0, 0, 3, 0, 0, 2, 0, 2, 0, 3, 0, 0, 0, 0, 0, 0, 2, 0, 2, 0, 0, 0, 0, 3, 0, 0, 0, 0, 0, 0, 3, 2, 0, 0, 0, 0, 2, 0, 3, 3, 2, 3, 0, 0, 0, 3, 0, 2, 0, 0, 0, 2, 3, 0, 0, 0, 0, 0, 2, 0, 0, 0, 3, 3, 2, 0, 0, 3, 3, 2, 0, 0, 0, 2, 0, 3, 0, 0, 0, 0, 0, 0, 0, 0, 0, 3, 0, 2, 0, 2, 0, 3, 2, 2, 0, 0, 0, 3, 0, 0, 2, 2, 3, 2, 2, 0, 3, 0, 2, 0, 2, 2, 3, 3, 3, 2, 3, 0, 2, 0, 0, 0, 0, 0, 0, 0, 3, 3, 0, 0, 0, 3, 0, 0, 2, 2, 0, 0, 3, 2, 3, 0, 2, 0, 2, 0, 0, 2, 2, 2, 0, 3, 2, 0, 0, 0, 2, 2, 2, 3, 0, 0, 3, 2, 2, 3, 0, 2, 0, 2, 0, 0, 0, 0, 2, 2, 0, 3, 0, 2, 0, 0, 0, 0, 0, 0, 2, 3, 0, 0, 3, 2, 0, 0, 2, 0, 2, 2, 0, 0, 0, 2, 0, 2, 3, 0, 3, 3, 2, 0, 0, 2, 0, 2, 0, 0, 0, 3, 3, 0, 0, 0, 0, 2, 0, 2, 2, 2, 0, 3, 0, 2, 0, 0, 2, 3, 0, 0, 2, 2, 2, 0, 3, 0, 0, 2, 0, 0, 0, 2, 0, 3, 2, 0, 2, 0, 3, 2, 2, 2, 0, 2, 2, 0, 0, 2, 0, 0, 0, 0, 3, 0, 3, 0, 0, 0, 2, 2, 3, 2, 0, 0, 0, 0, 2, 0, 0, 2, 2, 2, 0, 3, 0, 0, 0, 2, 2, 0, 3, 3, 0, 2, 3, 0, 0, 3, 0, 2, 0, 3, 2, 0, 0, 0, 0, 2, 3, 0, 0, 3, 0, 0, 2, 0, 2, 0, 2, 2, 0, 0, 0, 0, 2, 0, 0, 3, 0, 0, 0, 2, 2, 3, 3, 0, 0, 3, 0, 2, 0, 2, 0, 0, 3, 0, 2, 0, 2, 2, 0, 3, 0, 0, 3, 0, 0, 2, 0, 2, 0, 3, 3, 2, 0, 0, 3, 0, 0, 2, 0, 0, 3, 2, 0, 2, 0, 3, 0, 0, 2, 3, 2, 0, 0, 3, 2, 0, 0, 3, 0, 3, 0, 2, 2, 3, 3, 0, 3, 0, 0, 3, 0, 3, 0, 0, 2, 2, 0, 2, 0, 0, 0, 3, 0, 3, 3, 0, 0, 3, 3, 0, 2, 2, 2, 2, 2, 0, 0, 3, 3, 3, 2, 0, 0, 3, 0, 2, 0, 2, 3, 0, 0, 3, 2, 2, 0, 0, 2, 0, 0, 2, 2, 0, 0, 0, 0, 0, 0, 0, 0, 0, 0, 0, 0, 0, 0, 2, 0, 2, 0, 2, 0, 2, 0, 0, 2, 2, 3, 2, 0, 2, 0, 0, 0, 3, 0, 0, 2, 0, 2, 0, 0, 2, 2, 0, 3, 2, 0, 3, 2, 0, 0, 0, 0, 2, 2, 0, 0, 3, 2, 3, 0, 0, 2, 0, 0, 0, 0, 2, 0, 0, 0, 2, 2, 0, 0, 0, 0, 2, 0, 2, 2, 0, 3, 0, 0, 0, 0, 0, 0, 0, 0, 2, 0, 2, 0, 0, 2, 2, 2, 3, 0, 2, 2, 0, 2, 0, 3, 0, 2, 0, 0, 0, 0, 3, 2, 0, 0, 0, 0, 3, 2, 2, 0, 0, 0, 0, 0, 0, 0, 0, 2, 0, 0, 0, 0, 0, 0, 0, 2, 2, 0, 3, 2, 2, 0, 0, 2, 0, 0, 0, 0, 3, 3, 2, 2, 2, 0, 3, 2, 0, 0, 0, 0, 0, 0, 3, 0, 0, 0, 3, 0, 0, 0, 3, 0, 3, 0, 2, 3, 0, 0, 3, 0, 0, 0, 0, 0, 0, 3, 2, 0, 2, 0, 2, 2, 0, 0, 0, 0, 0, 2, 0, 3, 2, 3, 3, 0, 0, 3, 2, 0, 2, 2, 3, 0, 0, 3, 0, 3, 0, 2, 0, 0, 0, 0, 0, 3, 3, 2, 0, 3, 3, 3, 0, 2, 0, 2, 2, 0, 2, 0, 2, 3, 3, 0, 2, 0, 3, 0, 0, 0, 2, 0, 3, 0, 0, 0, 2, 0, 2, 0, 0, 0, 0, 0, 0, 0, 3, 0, 0, 3, 2, 0, 2, 0, 0, 0, 3, 0, 3, 3, 0, 0, 0, 2, 3, 0, 3, 0, 2, 2, 3, 3, 2, 3, 2, 0, 2, 0, 0, 0, 0, 2, 3, 0, 0, 0, 0, 0, 0, 0, 0, 0, 0, 3, 0, 0, 0, 0, 2, 0, 0, 0, 2, 3, 0, 0, 0, 0, 0, 2, 0, 0, 0, 0, 3, 0, 0, 3, 0, 0, 0, 0, 0, 3, 0, 0, 0, 3, 3, 0, 3, 2, 0, 2, 3, 2, 3, 2, 0, 2, 2, 2, 0, 2, 0, 2, 0, 0, 0, 3, 0, 2, 2, 2, 3, 0, 2, 2, 0, 3, 0, 3, 2, 0, 0, 2, 2, 0, 2, 2, 2, 0, 0, 0, 0, 0, 0, 2, 0, 0, 3, 2, 0, 2, 2, 3, 3, 3, 3, 2, 0, 3, 2, 0, 0, 0, 2, 2, 0, 3, 2, 2, 0, 3, 2, 0, 2, 3, 3, 0, 0, 0, 0, 3, 2, 0, 3, 0, 0, 3, 2, 0, 0, 2, 0, 2, 0, 0, 2, 2, 3, 2, 0, 0, 0, 0, 0, 0, 3, 0, 0, 3, 0, 2, 0, 2, 0, 0, 0, 0, 0, 0, 2, 2, 2, 0, 2, 0, 3, 3, 0, 3, 0, 3, 2, 0, 2, 0, 0, 2, 0, 2, 0, 2, 2, 0, 3, 2, 2, 2, 0, 0, 3, 0, 2, 3, 2, 3, 0, 0, 0]\n"
          ]
        }
      ]
    },
    {
      "cell_type": "code",
      "source": [
        "real_res = []\n",
        "for a in test_label:\n",
        "  if a[0] == 1:\n",
        "    real_res.append(0)\n",
        "  elif a[1] == 1:\n",
        "    real_res.append(1)\n",
        "  elif a[2] == 1:\n",
        "    real_res.append(2)\n",
        "  else:\n",
        "    real_res.append(3)\n"
      ],
      "metadata": {
        "id": "T12Yw9ARcbf8"
      },
      "execution_count": 31,
      "outputs": []
    },
    {
      "cell_type": "code",
      "source": [
        "matched = 0\n",
        "for a in range(0,len(real_res)):\n",
        "  if real_res[a] == pred_res[a]:\n",
        "    matched += 1\n",
        "print(matched)\n",
        "print(len(real_res))"
      ],
      "metadata": {
        "colab": {
          "base_uri": "https://localhost:8080/"
        },
        "id": "O9-kptCOQFId",
        "outputId": "376e2f55-d78c-4979-9f19-0d79d3c6ea6c"
      },
      "execution_count": 32,
      "outputs": [
        {
          "output_type": "stream",
          "name": "stdout",
          "text": [
            "6398\n",
            "12706\n"
          ]
        }
      ]
    },
    {
      "cell_type": "code",
      "source": [
        "accr_train = model.evaluate(train_data,train_label)\n",
        "print('Accuracy Train: {}'.format(accr_train[1]*100))\n",
        "accr_test = model.evaluate(test_data,test_label)\n",
        "print('Accuracy Test: {}'.format(accr_test[1]*100))"
      ],
      "metadata": {
        "trusted": true,
        "id": "BOVWhaH9_Y7-",
        "colab": {
          "base_uri": "https://localhost:8080/"
        },
        "outputId": "c0e195bb-76eb-4775-c46e-6ff3bfb2f962"
      },
      "execution_count": 21,
      "outputs": [
        {
          "output_type": "stream",
          "name": "stdout",
          "text": [
            "781/781 [==============================] - 56s 72ms/step - loss: 0.3107 - accuracy: 0.7390\n",
            "Accuracy Train: 73.89737963676453\n",
            "398/398 [==============================] - 28s 72ms/step - loss: 0.3573 - accuracy: 0.7267\n",
            "Accuracy Test: 72.67432808876038\n"
          ]
        }
      ]
    },
    {
      "cell_type": "code",
      "source": [
        "pred = model.predict_classes(X_test)\n",
        "cf_matrix = confusion_matrix(y_test,pred)\n",
        "sns.heatmap(cf_matrix, annot=True, fmt='g', xticklabels = ['Fake','Real'] , yticklabels = ['Fake','Real'])"
      ],
      "metadata": {
        "trusted": true,
        "id": "L4rH8Glk_Y7_"
      },
      "execution_count": null,
      "outputs": []
    },
    {
      "cell_type": "code",
      "source": [
        "text_to_check = unseen_data_real\n",
        "pred = get_pred_output(text_to_check)\n",
        "print('Unseen real data prediction {} '.format(pred[0]))\n",
        "\n",
        "text_to_check = unseen_data_fake\n",
        "pred = get_pred_output(text_to_check)\n",
        "print('Unseen fake data prediction {} '.format(pred[0]))\n",
        "\n",
        "text_to_check = news_data_df.text[1000]\n",
        "pred = get_pred_output(text_to_check)\n",
        "print('Seen real data prediction {} '.format(pred[0]))\n",
        "\n",
        "text_to_check = news_data_df.text[31000]\n",
        "pred = get_pred_output(text_to_check)\n",
        "print('Seen fake data prediction {} '.format(pred[0]))\n"
      ],
      "metadata": {
        "trusted": true,
        "id": "I-IkpmOv_Y7_"
      },
      "execution_count": null,
      "outputs": []
    }
  ],
  "metadata": {
    "colab": {
      "name": "IR assignment",
      "provenance": []
    },
    "kernelspec": {
      "display_name": "Python 3",
      "name": "python3"
    },
    "language_info": {
      "name": "python"
    }
  },
  "nbformat": 4,
  "nbformat_minor": 0
}